{
  "nbformat": 4,
  "nbformat_minor": 0,
  "metadata": {
    "colab": {
      "provenance": [],
      "mount_file_id": "1MlJiZej5IsyTg3dvpOTAYLwBZYFozHpG",
      "authorship_tag": "ABX9TyOpsuVt9Digrq5vq8kEQ6+u",
      "include_colab_link": true
    },
    "kernelspec": {
      "name": "python3",
      "display_name": "Python 3"
    },
    "language_info": {
      "name": "python"
    },
    "gpuClass": "standard",
    "accelerator": "GPU"
  },
  "cells": [
    {
      "cell_type": "markdown",
      "metadata": {
        "id": "view-in-github",
        "colab_type": "text"
      },
      "source": [
        "<a href=\"https://colab.research.google.com/github/shorooqsaad/Chest-X-ray-diagnosis/blob/main/Chest_X_ray.ipynb\" target=\"_parent\"><img src=\"https://colab.research.google.com/assets/colab-badge.svg\" alt=\"Open In Colab\"/></a>"
      ]
    },
    {
      "cell_type": "markdown",
      "source": [
        "# Step 1 : Importing the necessary libraries"
      ],
      "metadata": {
        "id": "kzAVNCCJXREm"
      }
    },
    {
      "cell_type": "code",
      "source": [
        "import pandas as pd\n",
        "import numpy as np\n",
        "import matplotlib.pyplot as plt\n",
        "import seaborn as sns\n",
        "import tensorflow as tf\n",
        "import keras\n",
        "from keras.models import Sequential\n",
        "from keras.layers import Dense, Conv2D , MaxPooling2D , Flatten , Dropout , BatchNormalization,Activation\n",
        "from keras.preprocessing.image import ImageDataGenerator,DirectoryIterator\n",
        "from sklearn.model_selection import train_test_split\n",
        "from sklearn.metrics import classification_report,confusion_matrix\n",
        "from keras.callbacks import EarlyStopping, ReduceLROnPlateau\n",
        "import cv2\n",
        "import os"
      ],
      "metadata": {
        "id": "0bx1Wp0ItwuH"
      },
      "execution_count": null,
      "outputs": []
    },
    {
      "cell_type": "code",
      "source": [
        "#Helper function for calling\n",
        "labels = ['PNEUMONIA', 'NORMAL']\n",
        "img_size = 150\n",
        "def get_training_data(data_dir):\n",
        "    data = [] \n",
        "    for label in labels: \n",
        "        path = os.path.join(data_dir, label)\n",
        "        class_num = labels.index(label)\n",
        "        for img in os.listdir(path):\n",
        "            try:\n",
        "                img_arr = cv2.imread(os.path.join(path, img), cv2.IMREAD_GRAYSCALE)\n",
        "                resized_arr = cv2.resize(img_arr, (img_size, img_size)) # Reshaping images to preferred size\n",
        "                data.append([resized_arr, class_num])\n",
        "            except Exception as e:\n",
        "                print(e)      \n",
        "    return np.array(data)"
      ],
      "metadata": {
        "id": "1yzUtj61AvgM"
      },
      "execution_count": null,
      "outputs": []
    },
    {
      "cell_type": "markdown",
      "source": [
        "# Step 2 : Split the dataset"
      ],
      "metadata": {
        "id": "GUu08gQhvn27"
      }
    },
    {
      "cell_type": "code",
      "source": [
        "#This cell is a comment bc it is already performed \n",
        "#split the dataset by 70,15,15 for training, testing, and validation respectivly\n",
        "\n",
        "#import splitfolders\n",
        "#splitfolders.ratio(\"/content/drive/MyDrive/chest_xray\", output=\"/content/drive/MyDrive/Final_Dataset\",\n",
        "   # seed=1337, ratio=(.7, .15, .15), group_prefix=None, move=False) # default values\n",
        "\n",
        "#Now Final_Dataset has the ratio I want and going to be fed to the model\n"
      ],
      "metadata": {
        "id": "Qd_25NcbaKsp"
      },
      "execution_count": null,
      "outputs": []
    },
    {
      "cell_type": "code",
      "source": [
        "#After I split the data now load the path\n",
        "train = get_training_data('/content/drive/MyDrive/Final_Dataset/train')\n",
        "test = get_training_data('/content/drive/MyDrive/Final_Dataset/test')\n",
        "val = get_training_data('/content/drive/MyDrive/Final_Dataset/val')"
      ],
      "metadata": {
        "id": "G8gkIL7fA6DE",
        "colab": {
          "base_uri": "https://localhost:8080/"
        },
        "outputId": "c1172d75-606f-4163-f470-ba89ac01aa79"
      },
      "execution_count": null,
      "outputs": [
        {
          "output_type": "stream",
          "name": "stderr",
          "text": [
            "<ipython-input-77-225c3d6f1ff0>:16: VisibleDeprecationWarning: Creating an ndarray from ragged nested sequences (which is a list-or-tuple of lists-or-tuples-or ndarrays with different lengths or shapes) is deprecated. If you meant to do this, you must specify 'dtype=object' when creating the ndarray.\n",
            "  return np.array(data)\n"
          ]
        }
      ]
    },
    {
      "cell_type": "code",
      "source": [
        "#Data visualization\n",
        "l = []\n",
        "for i in train:\n",
        "    if(i[1] == 0):\n",
        "        l.append(\"Pneumonia\")\n",
        "    else:\n",
        "        l.append(\"Normal\")\n",
        "sns.set_style('darkgrid')\n",
        "sns.countplot(l)  "
      ],
      "metadata": {
        "id": "kG0wB_nwBEcc",
        "colab": {
          "base_uri": "https://localhost:8080/",
          "height": 337
        },
        "outputId": "5490f88a-5275-43b1-8562-7e215415b7ca"
      },
      "execution_count": null,
      "outputs": [
        {
          "output_type": "stream",
          "name": "stderr",
          "text": [
            "/usr/local/lib/python3.8/dist-packages/seaborn/_decorators.py:36: FutureWarning: Pass the following variable as a keyword arg: x. From version 0.12, the only valid positional argument will be `data`, and passing other arguments without an explicit keyword will result in an error or misinterpretation.\n",
            "  warnings.warn(\n"
          ]
        },
        {
          "output_type": "execute_result",
          "data": {
            "text/plain": [
              "<matplotlib.axes._subplots.AxesSubplot at 0x7fca6e524580>"
            ]
          },
          "metadata": {},
          "execution_count": 80
        },
        {
          "output_type": "display_data",
          "data": {
            "text/plain": [
              "<Figure size 432x288 with 1 Axes>"
            ],
            "image/png": "[encoded data removed]"
          },
          "metadata": {}
        }
      ]
    },
    {
      "cell_type": "markdown",
      "source": [
        "# STEP 3: Normalization and data augmentation"
      ],
      "metadata": {
        "id": "p0YBHoh2dSN3"
      }
    },
    {
      "cell_type": "code",
      "source": [
        "#As shown above the data seems imbalance so I am going to increase number of training examples, by data augmentation\n",
        "\n",
        "x_train = []\n",
        "y_train = []\n",
        "\n",
        "x_val = []\n",
        "y_val = []\n",
        "\n",
        "x_test = []\n",
        "y_test = []\n",
        "\n",
        "for feature, label in train:\n",
        "    x_train.append(feature)\n",
        "    y_train.append(label)\n",
        "\n",
        "for feature, label in test:\n",
        "    x_test.append(feature)\n",
        "    y_test.append(label)\n",
        "    \n",
        "for feature, label in val:\n",
        "    x_val.append(feature)\n",
        "    y_val.append(label)"
      ],
      "metadata": {
        "id": "YFB5l9YkAJH-"
      },
      "execution_count": null,
      "outputs": []
    },
    {
      "cell_type": "code",
      "source": [
        "# The CNN converges faster on [0..1] so normalize the data\n",
        "x_train = np.array(x_train) / 255\n",
        "x_val = np.array(x_val) / 255\n",
        "x_test = np.array(x_test) / 255\n",
        "x_train.shape"
      ],
      "metadata": {
        "id": "w7I3KjW_CMo2",
        "colab": {
          "base_uri": "https://localhost:8080/"
        },
        "outputId": "8ec6b414-0ae3-4969-9b34-c837614ecfa9"
      },
      "execution_count": null,
      "outputs": [
        {
          "output_type": "execute_result",
          "data": {
            "text/plain": [
              "(4099, 150, 150)"
            ]
          },
          "metadata": {},
          "execution_count": 82
        }
      ]
    },
    {
      "cell_type": "code",
      "source": [
        "# resize data \n",
        "X_train = x_train.reshape(-1, img_size, img_size, 1)\n",
        "Y_train = np.array(y_train)\n",
        "\n",
        "X_val = x_val.reshape(-1, img_size, img_size, 1)\n",
        "Y_val = np.array(y_val)\n",
        "\n",
        "X_test = x_test.reshape(-1, img_size, img_size, 1)\n",
        "Y_test = np.array(y_test)\n",
        "Y_train.shape"
      ],
      "metadata": {
        "id": "3Bdo4dmGCdIg",
        "colab": {
          "base_uri": "https://localhost:8080/"
        },
        "outputId": "a1b71fc6-af30-4b32-bcaa-76fb78f308ac"
      },
      "execution_count": null,
      "outputs": [
        {
          "output_type": "execute_result",
          "data": {
            "text/plain": [
              "(4099,)"
            ]
          },
          "metadata": {},
          "execution_count": 83
        }
      ]
    },
    {
      "cell_type": "code",
      "source": [
        "# With data augmentation to prevent overfitting and handling the imbalance in dataset\n",
        "\n",
        "datagen = ImageDataGenerator(\n",
        "        featurewise_center=False,  # set input mean to 0 over the dataset\n",
        "        samplewise_center=False,  # set each sample mean to 0\n",
        "        featurewise_std_normalization=False,  # divide inputs by std of the dataset\n",
        "        samplewise_std_normalization=False,  # divide each input by its std\n",
        "        zca_whitening=False,  # apply ZCA whitening\n",
        "        rotation_range = 30,  # randomly rotate images in the range (degrees, 0 to 180)\n",
        "        zoom_range = 0.2, # Randomly zoom image \n",
        "        width_shift_range=0.1,  # randomly shift images horizontally (fraction of total width)\n",
        "        height_shift_range=0.1,  # randomly shift images vertically (fraction of total height)\n",
        "        horizontal_flip = True,  # randomly flip images\n",
        "        vertical_flip=False)  # randomly flip images\n",
        "\n",
        "\n",
        "datagen.fit(X_train)"
      ],
      "metadata": {
        "id": "SsfFxCyrCqXQ"
      },
      "execution_count": null,
      "outputs": []
    },
    {
      "cell_type": "markdown",
      "source": [
        "# Step 4 :Training the model"
      ],
      "metadata": {
        "id": "dJ0e3SxmC0Tf"
      }
    },
    {
      "cell_type": "code",
      "source": [
        "\n",
        "model = Sequential()\n",
        "#first conv layer\n",
        "model.add(Conv2D(16, (3, 3), padding=\"same\", input_shape = (150,150,1)))\n",
        "model.add(BatchNormalization())\n",
        "model.add(Activation(\"relu\"))\n",
        "model.add(MaxPooling2D(2, 2))\n",
        "#second conv layer\n",
        "model.add(Conv2D(32, (3, 3), padding=\"same\"))\n",
        "model.add(BatchNormalization())\n",
        "model.add(Activation(\"relu\"))\n",
        "model.add(MaxPooling2D(2, 2))\n",
        "model.add(Dropout(0.1))\n",
        "#third conv layer\n",
        "model.add(Conv2D(64, (3, 3), padding=\"same\"))\n",
        "model.add(BatchNormalization())\n",
        "model.add(Activation(\"relu\"))\n",
        "model.add(MaxPooling2D(2, 2))\n",
        "model.add(Dropout(0.2))\n",
        "#fourth conv layer\n",
        "model.add(Conv2D(128, (3, 3), padding=\"same\"))\n",
        "model.add(BatchNormalization())\n",
        "model.add(Activation(\"relu\"))\n",
        "model.add(MaxPooling2D(2, 2))\n",
        "#fifth conv layer\n",
        "model.add(Conv2D(256, (3, 3), padding=\"same\"))\n",
        "model.add(BatchNormalization())\n",
        "model.add(Activation(\"relu\"))\n",
        "model.add(MaxPooling2D(2, 2))\n",
        "model.add(Dropout(0.2))\n",
        "#fc layer\n",
        "model.add(Flatten())\n",
        "model.add(Dense(256, activation=\"relu\"))\n",
        "model.add(Dropout(0.2))\n",
        "model.add(Dense(128, activation=\"relu\"))\n",
        "model.add(Dropout(0.2))\n",
        "\n",
        "#output layer\n",
        "model.add(Dense(1))\n",
        "model.add(Activation(\"sigmoid\"))\n",
        "#optimizer and loss function\n",
        "opt = tf.keras.optimizers.Adam(learning_rate=0.0001)\n",
        "model.compile(optimizer =opt , loss = 'binary_crossentropy' , metrics = ['accuracy'])\n",
        "#model's summary\n",
        "model.summary()"
      ],
      "metadata": {
        "colab": {
          "base_uri": "https://localhost:8080/"
        },
        "id": "Xq7QB9EKkoOZ",
        "outputId": "7213f003-b3dd-4107-b676-1bde8a0892d1"
      },
      "execution_count": null,
      "outputs": [
        {
          "output_type": "stream",
          "name": "stdout",
          "text": [
            "Model: \"sequential_35\"\n",
            "_________________________________________________________________\n",
            " Layer (type)                Output Shape              Param #   \n",
            "=================================================================\n",
            " conv2d_175 (Conv2D)         (None, 150, 150, 16)      160       \n",
            "                                                                 \n",
            " batch_normalization_175 (Ba  (None, 150, 150, 16)     64        \n",
            " tchNormalization)                                               \n",
            "                                                                 \n",
            " activation_210 (Activation)  (None, 150, 150, 16)     0         \n",
            "                                                                 \n",
            " max_pooling2d_175 (MaxPooli  (None, 75, 75, 16)       0         \n",
            " ng2D)                                                           \n",
            "                                                                 \n",
            " conv2d_176 (Conv2D)         (None, 75, 75, 32)        4640      \n",
            "                                                                 \n",
            " batch_normalization_176 (Ba  (None, 75, 75, 32)       128       \n",
            " tchNormalization)                                               \n",
            "                                                                 \n",
            " activation_211 (Activation)  (None, 75, 75, 32)       0         \n",
            "                                                                 \n",
            " max_pooling2d_176 (MaxPooli  (None, 37, 37, 32)       0         \n",
            " ng2D)                                                           \n",
            "                                                                 \n",
            " dropout_175 (Dropout)       (None, 37, 37, 32)        0         \n",
            "                                                                 \n",
            " conv2d_177 (Conv2D)         (None, 37, 37, 64)        18496     \n",
            "                                                                 \n",
            " batch_normalization_177 (Ba  (None, 37, 37, 64)       256       \n",
            " tchNormalization)                                               \n",
            "                                                                 \n",
            " activation_212 (Activation)  (None, 37, 37, 64)       0         \n",
            "                                                                 \n",
            " max_pooling2d_177 (MaxPooli  (None, 18, 18, 64)       0         \n",
            " ng2D)                                                           \n",
            "                                                                 \n",
            " dropout_176 (Dropout)       (None, 18, 18, 64)        0         \n",
            "                                                                 \n",
            " conv2d_178 (Conv2D)         (None, 18, 18, 128)       73856     \n",
            "                                                                 \n",
            " batch_normalization_178 (Ba  (None, 18, 18, 128)      512       \n",
            " tchNormalization)                                               \n",
            "                                                                 \n",
            " activation_213 (Activation)  (None, 18, 18, 128)      0         \n",
            "                                                                 \n",
            " max_pooling2d_178 (MaxPooli  (None, 9, 9, 128)        0         \n",
            " ng2D)                                                           \n",
            "                                                                 \n",
            " conv2d_179 (Conv2D)         (None, 9, 9, 256)         295168    \n",
            "                                                                 \n",
            " batch_normalization_179 (Ba  (None, 9, 9, 256)        1024      \n",
            " tchNormalization)                                               \n",
            "                                                                 \n",
            " activation_214 (Activation)  (None, 9, 9, 256)        0         \n",
            "                                                                 \n",
            " max_pooling2d_179 (MaxPooli  (None, 4, 4, 256)        0         \n",
            " ng2D)                                                           \n",
            "                                                                 \n",
            " dropout_177 (Dropout)       (None, 4, 4, 256)         0         \n",
            "                                                                 \n",
            " flatten_35 (Flatten)        (None, 4096)              0         \n",
            "                                                                 \n",
            " dense_105 (Dense)           (None, 256)               1048832   \n",
            "                                                                 \n",
            " dropout_178 (Dropout)       (None, 256)               0         \n",
            "                                                                 \n",
            " dense_106 (Dense)           (None, 128)               32896     \n",
            "                                                                 \n",
            " dropout_179 (Dropout)       (None, 128)               0         \n",
            "                                                                 \n",
            " dense_107 (Dense)           (None, 1)                 129       \n",
            "                                                                 \n",
            " activation_215 (Activation)  (None, 1)                0         \n",
            "                                                                 \n",
            "=================================================================\n",
            "Total params: 1,476,161\n",
            "Trainable params: 1,475,169\n",
            "Non-trainable params: 992\n",
            "_________________________________________________________________\n"
          ]
        }
      ]
    },
    {
      "cell_type": "code",
      "source": [
        "#Using callback to help building better model and to prevent overfitting\n",
        "early_stop = EarlyStopping(monitor='val_loss',\n",
        "                           patience=10,\n",
        "                           mode='min',\n",
        "                           min_delta=0.001,\n",
        "                           restore_best_weights=True)\n",
        "\n",
        "learning_rate_reduction = ReduceLROnPlateau(monitor='val_accuracy',\n",
        "                                            patience = 2,\n",
        "                                            verbose=1,\n",
        "                                            factor=0.3,\n",
        "                                            min_lr=0.000001)"
      ],
      "metadata": {
        "id": "4cilFkp1_k3U"
      },
      "execution_count": null,
      "outputs": []
    },
    {
      "cell_type": "code",
      "source": [
        "history = model.fit(datagen.flow(X_train,Y_train, batch_size = 32) ,\n",
        "                    epochs = 30 ,\n",
        "                    validation_data = datagen.flow(X_val, Y_val) ,\n",
        "                    callbacks = [early_stop,learning_rate_reduction])"
      ],
      "metadata": {
        "colab": {
          "base_uri": "https://localhost:8080/"
        },
        "id": "uBk9p_bjsL1I",
        "outputId": "70d24a11-1e06-4a68-ba6d-fe90220be3af"
      },
      "execution_count": null,
      "outputs": [
        {
          "output_type": "stream",
          "name": "stdout",
          "text": [
            "Epoch 1/30\n",
            "129/129 [==============================] - 12s 79ms/step - loss: 0.3888 - accuracy: 0.8204 - val_loss: 1.2806 - val_accuracy: 0.7298 - lr: 1.0000e-04\n",
            "Epoch 2/30\n",
            "129/129 [==============================] - 11s 85ms/step - loss: 0.3034 - accuracy: 0.8661 - val_loss: 2.2655 - val_accuracy: 0.7298 - lr: 1.0000e-04\n",
            "Epoch 3/30\n",
            "129/129 [==============================] - ETA: 0s - loss: 0.2719 - accuracy: 0.8861\n",
            "Epoch 3: ReduceLROnPlateau reducing learning rate to 2.9999999242136255e-05.\n",
            "129/129 [==============================] - 12s 90ms/step - loss: 0.2719 - accuracy: 0.8861 - val_loss: 2.1556 - val_accuracy: 0.7298 - lr: 1.0000e-04\n",
            "Epoch 4/30\n",
            "129/129 [==============================] - 10s 76ms/step - loss: 0.2529 - accuracy: 0.8966 - val_loss: 2.0512 - val_accuracy: 0.7298 - lr: 3.0000e-05\n",
            "Epoch 5/30\n",
            "129/129 [==============================] - 10s 81ms/step - loss: 0.2357 - accuracy: 0.9044 - val_loss: 1.0792 - val_accuracy: 0.7389 - lr: 3.0000e-05\n",
            "Epoch 6/30\n",
            "129/129 [==============================] - 20s 153ms/step - loss: 0.2324 - accuracy: 0.9039 - val_loss: 0.6151 - val_accuracy: 0.7959 - lr: 3.0000e-05\n",
            "Epoch 7/30\n",
            "129/129 [==============================] - 16s 123ms/step - loss: 0.2237 - accuracy: 0.9097 - val_loss: 0.7022 - val_accuracy: 0.7868 - lr: 3.0000e-05\n",
            "Epoch 8/30\n",
            "129/129 [==============================] - 10s 75ms/step - loss: 0.2134 - accuracy: 0.9153 - val_loss: 0.4883 - val_accuracy: 0.8267 - lr: 3.0000e-05\n",
            "Epoch 9/30\n",
            "129/129 [==============================] - 10s 74ms/step - loss: 0.2138 - accuracy: 0.9190 - val_loss: 0.4175 - val_accuracy: 0.8540 - lr: 3.0000e-05\n",
            "Epoch 10/30\n",
            "129/129 [==============================] - 10s 74ms/step - loss: 0.1988 - accuracy: 0.9207 - val_loss: 0.4629 - val_accuracy: 0.8415 - lr: 3.0000e-05\n",
            "Epoch 11/30\n",
            "129/129 [==============================] - ETA: 0s - loss: 0.2030 - accuracy: 0.9185\n",
            "Epoch 11: ReduceLROnPlateau reducing learning rate to 8.999999772640877e-06.\n",
            "129/129 [==============================] - 10s 74ms/step - loss: 0.2030 - accuracy: 0.9185 - val_loss: 0.5089 - val_accuracy: 0.8347 - lr: 3.0000e-05\n",
            "Epoch 12/30\n",
            "129/129 [==============================] - 10s 74ms/step - loss: 0.2047 - accuracy: 0.9253 - val_loss: 0.4078 - val_accuracy: 0.8472 - lr: 9.0000e-06\n",
            "Epoch 13/30\n",
            "129/129 [==============================] - ETA: 0s - loss: 0.1951 - accuracy: 0.9256\n",
            "Epoch 13: ReduceLROnPlateau reducing learning rate to 2.6999998226528985e-06.\n",
            "129/129 [==============================] - 9s 73ms/step - loss: 0.1951 - accuracy: 0.9256 - val_loss: 0.3905 - val_accuracy: 0.8495 - lr: 9.0000e-06\n",
            "Epoch 14/30\n",
            "129/129 [==============================] - 10s 74ms/step - loss: 0.2115 - accuracy: 0.9141 - val_loss: 0.4039 - val_accuracy: 0.8518 - lr: 2.7000e-06\n",
            "Epoch 15/30\n",
            "129/129 [==============================] - ETA: 0s - loss: 0.1953 - accuracy: 0.9229\n",
            "Epoch 15: ReduceLROnPlateau reducing learning rate to 1e-06.\n",
            "129/129 [==============================] - 10s 74ms/step - loss: 0.1953 - accuracy: 0.9229 - val_loss: 0.4277 - val_accuracy: 0.8461 - lr: 2.7000e-06\n",
            "Epoch 16/30\n",
            "129/129 [==============================] - 10s 78ms/step - loss: 0.1999 - accuracy: 0.9212 - val_loss: 0.3998 - val_accuracy: 0.8461 - lr: 1.0000e-06\n",
            "Epoch 17/30\n",
            "129/129 [==============================] - 10s 80ms/step - loss: 0.1859 - accuracy: 0.9263 - val_loss: 0.4157 - val_accuracy: 0.8529 - lr: 1.0000e-06\n",
            "Epoch 18/30\n",
            "129/129 [==============================] - 10s 74ms/step - loss: 0.1977 - accuracy: 0.9246 - val_loss: 0.4086 - val_accuracy: 0.8552 - lr: 1.0000e-06\n",
            "Epoch 19/30\n",
            "129/129 [==============================] - 10s 74ms/step - loss: 0.2074 - accuracy: 0.9156 - val_loss: 0.3998 - val_accuracy: 0.8575 - lr: 1.0000e-06\n",
            "Epoch 20/30\n",
            "129/129 [==============================] - 10s 74ms/step - loss: 0.2031 - accuracy: 0.9219 - val_loss: 0.4026 - val_accuracy: 0.8472 - lr: 1.0000e-06\n",
            "Epoch 21/30\n",
            "129/129 [==============================] - 10s 74ms/step - loss: 0.2083 - accuracy: 0.9229 - val_loss: 0.4170 - val_accuracy: 0.8506 - lr: 1.0000e-06\n",
            "Epoch 22/30\n",
            "129/129 [==============================] - 11s 85ms/step - loss: 0.2010 - accuracy: 0.9244 - val_loss: 0.3914 - val_accuracy: 0.8609 - lr: 1.0000e-06\n",
            "Epoch 23/30\n",
            "129/129 [==============================] - 10s 74ms/step - loss: 0.1959 - accuracy: 0.9258 - val_loss: 0.3957 - val_accuracy: 0.8597 - lr: 1.0000e-06\n"
          ]
        }
      ]
    },
    {
      "cell_type": "code",
      "source": [
        "print(\"Loss of the model is - \" , model.evaluate(X_test,Y_test)[0])\n",
        "print(\"Accuracy of the model is - \" , model.evaluate(X_test,Y_test)[1]*100 , \"%\")"
      ],
      "metadata": {
        "colab": {
          "base_uri": "https://localhost:8080/"
        },
        "id": "EEaPgPzVsUuj",
        "outputId": "3b0fcc9c-8fe0-4960-9d1e-d9f5cb60385c"
      },
      "execution_count": null,
      "outputs": [
        {
          "output_type": "stream",
          "name": "stdout",
          "text": [
            "28/28 [==============================] - 0s 10ms/step - loss: 0.1777 - accuracy: 0.9489\n",
            "Loss of the model is -  0.1777055710554123\n",
            "28/28 [==============================] - 0s 9ms/step - loss: 0.1777 - accuracy: 0.9489\n",
            "Accuracy of the model is -  94.88636255264282 %\n"
          ]
        }
      ]
    },
    {
      "cell_type": "markdown",
      "source": [
        "# Analysis of Model Training"
      ],
      "metadata": {
        "id": "4TDOJO7lsct8"
      }
    },
    {
      "cell_type": "code",
      "source": [
        "# visualization\n",
        "import matplotlib.pyplot as plt\n",
        "accuracy = history.history['accuracy']\n",
        "val_accuracy = history.history['val_accuracy']\n",
        "loss = history.history['loss']\n",
        "val_loss = history.history['val_loss']\n",
        "epochs = range(len(accuracy))\n",
        "\n",
        "plt.plot(epochs, accuracy, \"b\", label=\"trainning accuracy\")\n",
        "plt.plot(epochs, val_accuracy, \"r\", label=\"validation accuracy\")\n",
        "plt.legend()\n",
        "plt.show()\n",
        "\n",
        "plt.plot(epochs, loss, \"b\", label=\"trainning loss\")\n",
        "plt.plot(epochs, val_loss, \"r\", label=\"validation loss\")\n",
        "plt.legend()\n",
        "plt.show()"
      ],
      "metadata": {
        "colab": {
          "base_uri": "https://localhost:8080/",
          "height": 513
        },
        "id": "eMak0J861RkU",
        "outputId": "bd1968d5-2829-4914-c03c-42fcd9931994"
      },
      "execution_count": null,
      "outputs": [
        {
          "output_type": "display_data",
          "data": {
            "text/plain": [
              "<Figure size 432x288 with 1 Axes>"
            ],
            "image/png": "[encoded data removed]"
          },
          "metadata": {}
        },
        {
          "output_type": "display_data",
          "data": {
            "text/plain": [
              "<Figure size 432x288 with 1 Axes>"
            ],
            "image/png": "[encoded data removed]"
          },
          "metadata": {}
        }
      ]
    },
    {
      "cell_type": "markdown",
      "source": [
        "# Predictions"
      ],
      "metadata": {
        "id": "SatzKkJL1yZX"
      }
    },
    {
      "cell_type": "code",
      "source": [
        "# You could also use \"model.predict_classes(x_test)\" \n",
        "#but it did not work with me bc \"predict_classes\" removed from my tenseflow version 2.6\n",
        "predictions = (model.predict(x_test) > 0.5).astype(\"int32\") \n",
        "predictions = predictions.reshape(1,-1)[0]\n",
        "predictions[:15]"
      ],
      "metadata": {
        "colab": {
          "base_uri": "https://localhost:8080/"
        },
        "id": "PAy8wivI1xsq",
        "outputId": "905c4d92-8a76-4b0f-964f-cea5326333a6"
      },
      "execution_count": null,
      "outputs": [
        {
          "output_type": "stream",
          "name": "stdout",
          "text": [
            "28/28 [==============================] - 0s 8ms/step\n"
          ]
        },
        {
          "output_type": "execute_result",
          "data": {
            "text/plain": [
              "array([0, 0, 0, 0, 0, 0, 1, 0, 0, 0, 0, 0, 0, 0, 0], dtype=int32)"
            ]
          },
          "metadata": {},
          "execution_count": 95
        }
      ]
    },
    {
      "cell_type": "code",
      "source": [
        "print(classification_report(y_test, predictions, target_names = ['Pneumonia (Class 0)','Normal (Class 1)']))"
      ],
      "metadata": {
        "colab": {
          "base_uri": "https://localhost:8080/"
        },
        "id": "nnNHItwL196W",
        "outputId": "e5021907-f159-4cdf-d35c-e34aebe3b26c"
      },
      "execution_count": null,
      "outputs": [
        {
          "output_type": "stream",
          "name": "stdout",
          "text": [
            "                     precision    recall  f1-score   support\n",
            "\n",
            "Pneumonia (Class 0)       0.95      0.98      0.97       642\n",
            "   Normal (Class 1)       0.94      0.87      0.90       238\n",
            "\n",
            "           accuracy                           0.95       880\n",
            "          macro avg       0.95      0.92      0.93       880\n",
            "       weighted avg       0.95      0.95      0.95       880\n",
            "\n"
          ]
        }
      ]
    },
    {
      "cell_type": "code",
      "source": [
        "correct = np.nonzero(predictions == y_test)[0]\n",
        "incorrect = np.nonzero(predictions != y_test)[0]"
      ],
      "metadata": {
        "id": "iIW8deNU47Sa"
      },
      "execution_count": null,
      "outputs": []
    },
    {
      "cell_type": "code",
      "source": [
        "#Some of the Correctly Predicted Classes\n",
        "i = 0\n",
        "for c in correct[:6]:\n",
        "    plt.subplot(3,2,i+1)\n",
        "    plt.xticks([])\n",
        "    plt.yticks([])\n",
        "    plt.imshow(x_test[c].reshape(150,150), cmap=\"gray\", interpolation='none')\n",
        "    plt.title(\"Predicted Class {},Actual Class {}\".format(predictions[c], y_test[c]))\n",
        "    plt.tight_layout()\n",
        "    i += 1"
      ],
      "metadata": {
        "colab": {
          "base_uri": "https://localhost:8080/",
          "height": 297
        },
        "id": "tp1MQIHq4-Yg",
        "outputId": "cb154fe6-821f-45a9-cc1e-cf6431bc7647"
      },
      "execution_count": null,
      "outputs": [
        {
          "output_type": "display_data",
          "data": {
            "text/plain": [
              "<Figure size 432x288 with 6 Axes>"
            ],
            "image/png": "[encoded data removed]"
          },
          "metadata": {}
        }
      ]
    },
    {
      "cell_type": "code",
      "source": [
        "#Some of the Incorrectly Predicted Classes\n",
        "i = 0\n",
        "for c in incorrect[:6]:\n",
        "    plt.subplot(3,2,i+1)\n",
        "    plt.xticks([])\n",
        "    plt.yticks([])\n",
        "    plt.imshow(x_test[c].reshape(150,150), cmap=\"gray\", interpolation='none')\n",
        "    plt.title(\"Predicted Class {},Actual Class {}\".format(predictions[c], y_test[c]))\n",
        "    plt.tight_layout()\n",
        "    i += 1"
      ],
      "metadata": {
        "colab": {
          "base_uri": "https://localhost:8080/",
          "height": 297
        },
        "id": "wVFAozEb5E-8",
        "outputId": "954337db-216c-4049-e4bc-2d00f9b395ef"
      },
      "execution_count": null,
      "outputs": [
        {
          "output_type": "display_data",
          "data": {
            "text/plain": [
              "<Figure size 432x288 with 6 Axes>"
            ],
            "image/png": "[encoded data removed]"
          },
          "metadata": {}
        }
      ]
    },
    {
      "cell_type": "markdown",
      "source": [
        "# Hyper-parameters tuning with k-folds \n"
      ],
      "metadata": {
        "id": "ituIWaHwaiHL"
      }
    },
    {
      "cell_type": "markdown",
      "source": [
        "**Task 1 - Random search**"
      ],
      "metadata": {
        "id": "kcf0gUaCIWHo"
      }
    },
    {
      "cell_type": "code",
      "source": [
        "pip install keras-tuner"
      ],
      "metadata": {
        "colab": {
          "base_uri": "https://localhost:8080/"
        },
        "id": "1SsAi3nDDZtB",
        "outputId": "278f3201-53e7-4e1a-f9cd-81896ac8140c"
      },
      "execution_count": null,
      "outputs": [
        {
          "output_type": "stream",
          "name": "stdout",
          "text": [
            "Looking in indexes: https://pypi.org/simple, https://us-python.pkg.dev/colab-wheels/public/simple/\n",
            "Collecting keras-tuner\n",
            "  Downloading keras_tuner-1.1.3-py3-none-any.whl (135 kB)\n",
            "\u001b[2K     \u001b[90m━━━━━━━━━━━━━━━━━━━━━━━━━━━━━━━━━━━━━━━\u001b[0m \u001b[32m135.7/135.7 KB\u001b[0m \u001b[31m4.4 MB/s\u001b[0m eta \u001b[36m0:00:00\u001b[0m\n",
            "\u001b[?25hRequirement already satisfied: tensorboard in /usr/local/lib/python3.8/dist-packages (from keras-tuner) (2.9.1)\n",
            "Requirement already satisfied: numpy in /usr/local/lib/python3.8/dist-packages (from keras-tuner) (1.21.6)\n",
            "Requirement already satisfied: ipython in /usr/local/lib/python3.8/dist-packages (from keras-tuner) (7.9.0)\n",
            "Collecting kt-legacy\n",
            "  Downloading kt_legacy-1.0.4-py3-none-any.whl (9.6 kB)\n",
            "Requirement already satisfied: requests in /usr/local/lib/python3.8/dist-packages (from keras-tuner) (2.25.1)\n",
            "Requirement already satisfied: packaging in /usr/local/lib/python3.8/dist-packages (from keras-tuner) (21.3)\n",
            "Requirement already satisfied: pygments in /usr/local/lib/python3.8/dist-packages (from ipython->keras-tuner) (2.6.1)\n",
            "Requirement already satisfied: traitlets>=4.2 in /usr/local/lib/python3.8/dist-packages (from ipython->keras-tuner) (5.7.1)\n",
            "Requirement already satisfied: backcall in /usr/local/lib/python3.8/dist-packages (from ipython->keras-tuner) (0.2.0)\n",
            "Collecting jedi>=0.10\n",
            "  Downloading jedi-0.18.2-py2.py3-none-any.whl (1.6 MB)\n",
            "\u001b[2K     \u001b[90m━━━━━━━━━━━━━━━━━━━━━━━━━━━━━━━━━━━━━━━━\u001b[0m \u001b[32m1.6/1.6 MB\u001b[0m \u001b[31m30.9 MB/s\u001b[0m eta \u001b[36m0:00:00\u001b[0m\n",
            "\u001b[?25hRequirement already satisfied: decorator in /usr/local/lib/python3.8/dist-packages (from ipython->keras-tuner) (4.4.2)\n",
            "Requirement already satisfied: setuptools>=18.5 in /usr/local/lib/python3.8/dist-packages (from ipython->keras-tuner) (57.4.0)\n",
            "Requirement already satisfied: prompt-toolkit<2.1.0,>=2.0.0 in /usr/local/lib/python3.8/dist-packages (from ipython->keras-tuner) (2.0.10)\n",
            "Requirement already satisfied: pexpect in /usr/local/lib/python3.8/dist-packages (from ipython->keras-tuner) (4.8.0)\n",
            "Requirement already satisfied: pickleshare in /usr/local/lib/python3.8/dist-packages (from ipython->keras-tuner) (0.7.5)\n",
            "Requirement already satisfied: pyparsing!=3.0.5,>=2.0.2 in /usr/local/lib/python3.8/dist-packages (from packaging->keras-tuner) (3.0.9)\n",
            "Requirement already satisfied: urllib3<1.27,>=1.21.1 in /usr/local/lib/python3.8/dist-packages (from requests->keras-tuner) (1.24.3)\n",
            "Requirement already satisfied: chardet<5,>=3.0.2 in /usr/local/lib/python3.8/dist-packages (from requests->keras-tuner) (4.0.0)\n",
            "Requirement already satisfied: certifi>=2017.4.17 in /usr/local/lib/python3.8/dist-packages (from requests->keras-tuner) (2022.12.7)\n",
            "Requirement already satisfied: idna<3,>=2.5 in /usr/local/lib/python3.8/dist-packages (from requests->keras-tuner) (2.10)\n",
            "Requirement already satisfied: protobuf<3.20,>=3.9.2 in /usr/local/lib/python3.8/dist-packages (from tensorboard->keras-tuner) (3.19.6)\n",
            "Requirement already satisfied: grpcio>=1.24.3 in /usr/local/lib/python3.8/dist-packages (from tensorboard->keras-tuner) (1.51.1)\n",
            "Requirement already satisfied: google-auth-oauthlib<0.5,>=0.4.1 in /usr/local/lib/python3.8/dist-packages (from tensorboard->keras-tuner) (0.4.6)\n",
            "Requirement already satisfied: werkzeug>=1.0.1 in /usr/local/lib/python3.8/dist-packages (from tensorboard->keras-tuner) (1.0.1)\n",
            "Requirement already satisfied: tensorboard-plugin-wit>=1.6.0 in /usr/local/lib/python3.8/dist-packages (from tensorboard->keras-tuner) (1.8.1)\n",
            "Requirement already satisfied: tensorboard-data-server<0.7.0,>=0.6.0 in /usr/local/lib/python3.8/dist-packages (from tensorboard->keras-tuner) (0.6.1)\n",
            "Requirement already satisfied: wheel>=0.26 in /usr/local/lib/python3.8/dist-packages (from tensorboard->keras-tuner) (0.38.4)\n",
            "Requirement already satisfied: google-auth<3,>=1.6.3 in /usr/local/lib/python3.8/dist-packages (from tensorboard->keras-tuner) (2.16.0)\n",
            "Requirement already satisfied: markdown>=2.6.8 in /usr/local/lib/python3.8/dist-packages (from tensorboard->keras-tuner) (3.4.1)\n",
            "Requirement already satisfied: absl-py>=0.4 in /usr/local/lib/python3.8/dist-packages (from tensorboard->keras-tuner) (1.3.0)\n",
            "Requirement already satisfied: rsa<5,>=3.1.4 in /usr/local/lib/python3.8/dist-packages (from google-auth<3,>=1.6.3->tensorboard->keras-tuner) (4.9)\n",
            "Requirement already satisfied: six>=1.9.0 in /usr/local/lib/python3.8/dist-packages (from google-auth<3,>=1.6.3->tensorboard->keras-tuner) (1.15.0)\n",
            "Requirement already satisfied: cachetools<6.0,>=2.0.0 in /usr/local/lib/python3.8/dist-packages (from google-auth<3,>=1.6.3->tensorboard->keras-tuner) (5.2.1)\n",
            "Requirement already satisfied: pyasn1-modules>=0.2.1 in /usr/local/lib/python3.8/dist-packages (from google-auth<3,>=1.6.3->tensorboard->keras-tuner) (0.2.8)\n",
            "Requirement already satisfied: requests-oauthlib>=0.7.0 in /usr/local/lib/python3.8/dist-packages (from google-auth-oauthlib<0.5,>=0.4.1->tensorboard->keras-tuner) (1.3.1)\n",
            "Requirement already satisfied: parso<0.9.0,>=0.8.0 in /usr/local/lib/python3.8/dist-packages (from jedi>=0.10->ipython->keras-tuner) (0.8.3)\n",
            "Requirement already satisfied: importlib-metadata>=4.4 in /usr/local/lib/python3.8/dist-packages (from markdown>=2.6.8->tensorboard->keras-tuner) (6.0.0)\n",
            "Requirement already satisfied: wcwidth in /usr/local/lib/python3.8/dist-packages (from prompt-toolkit<2.1.0,>=2.0.0->ipython->keras-tuner) (0.2.5)\n",
            "Requirement already satisfied: ptyprocess>=0.5 in /usr/local/lib/python3.8/dist-packages (from pexpect->ipython->keras-tuner) (0.7.0)\n",
            "Requirement already satisfied: zipp>=0.5 in /usr/local/lib/python3.8/dist-packages (from importlib-metadata>=4.4->markdown>=2.6.8->tensorboard->keras-tuner) (3.11.0)\n",
            "Requirement already satisfied: pyasn1<0.5.0,>=0.4.6 in /usr/local/lib/python3.8/dist-packages (from pyasn1-modules>=0.2.1->google-auth<3,>=1.6.3->tensorboard->keras-tuner) (0.4.8)\n",
            "Requirement already satisfied: oauthlib>=3.0.0 in /usr/local/lib/python3.8/dist-packages (from requests-oauthlib>=0.7.0->google-auth-oauthlib<0.5,>=0.4.1->tensorboard->keras-tuner) (3.2.2)\n",
            "Installing collected packages: kt-legacy, jedi, keras-tuner\n",
            "Successfully installed jedi-0.18.2 keras-tuner-1.1.3 kt-legacy-1.0.4\n"
          ]
        }
      ]
    },
    {
      "cell_type": "code",
      "source": [
        "from kerastuner import HyperModel\n",
        "\n",
        "NUM_CLASSES=2\n",
        "INPUT_SHAPE=X_train.shape[1:]\n",
        "\n",
        "class CNNHyperModel(HyperModel):\n",
        "    def __init__(self, input_shape, num_classes):\n",
        "        self.input_shape = input_shape\n",
        "        self.num_classes = num_classes\n",
        "\n",
        "    def build(self, hp):\n",
        "        model = keras.Sequential()\n",
        "        #First conv layer\n",
        "        model.add(\n",
        "            Conv2D(\n",
        "                filters=16,\n",
        "                kernel_size=3,\n",
        "                activation='relu',\n",
        "                padding='same',\n",
        "                input_shape=self.input_shape\n",
        "            )\n",
        "        )\n",
        "        model.add(MaxPooling2D(pool_size=2))\n",
        "        #Second conv layer\n",
        "        model.add(\n",
        "            Conv2D(\n",
        "                filters=hp.Choice(\n",
        "                    'num_filters_L2',\n",
        "                    values=[32, 64,128,256],\n",
        "                    default=32,\n",
        "                ),\n",
        "                activation='relu',\n",
        "                kernel_size=3\n",
        "            )\n",
        "        )\n",
        "        model.add(MaxPooling2D(pool_size=2))\n",
        "        model.add(\n",
        "            Dropout(rate=hp.Float(\n",
        "                'dropout_L2',\n",
        "                min_value=0.0,\n",
        "                max_value=0.5,\n",
        "                default=0.1,\n",
        "                step=0.05,\n",
        "            ))\n",
        "        )\n",
        "        #Third conv layer\n",
        "        model.add(\n",
        "            Conv2D(\n",
        "                filters=hp.Choice(\n",
        "                    'num_filters_L3',\n",
        "                    values=[32, 64,128,256],\n",
        "                    default=64,\n",
        "                ),\n",
        "                activation='relu',\n",
        "                kernel_size=3\n",
        "            )\n",
        "        )\n",
        "        model.add(MaxPooling2D(pool_size=2))\n",
        "        model.add(\n",
        "            Dropout(rate=hp.Float(\n",
        "                'dropout_L3',\n",
        "                min_value=0.0,\n",
        "                max_value=0.5,\n",
        "                default=0.2,\n",
        "                step=0.05,\n",
        "            ))\n",
        "        )\n",
        "        #Fourth conv layer\n",
        "        model.add(\n",
        "            Conv2D(\n",
        "                filters=128,\n",
        "                kernel_size=3,\n",
        "                activation='relu'\n",
        "            )\n",
        "        )\n",
        "        model.add(MaxPooling2D(pool_size=2))\n",
        "        #Fifth conv layer\n",
        "        model.add(\n",
        "            Conv2D(\n",
        "                filters=hp.Choice(\n",
        "                    'num_filters_L3',\n",
        "                    values=[32, 64,128,256],\n",
        "                    default=256,\n",
        "                ),\n",
        "                activation='relu',\n",
        "                kernel_size=3\n",
        "            )\n",
        "        )\n",
        "        model.add(MaxPooling2D(pool_size=2))\n",
        "        model.add(\n",
        "            Dropout(rate=hp.Float(\n",
        "                'dropout_L5',\n",
        "                min_value=0.0,\n",
        "                max_value=0.5,\n",
        "                default=0.2,\n",
        "                step=0.05,\n",
        "            ))\n",
        "        )\n",
        "        model.add(Flatten())\n",
        "        model.add(\n",
        "            Dense(\n",
        "                units=hp.Int(\n",
        "                    'units_D1',\n",
        "                    min_value=32,\n",
        "                    max_value=512,\n",
        "                    step=32,\n",
        "                    default=256\n",
        "                ),\n",
        "                activation=hp.Choice(\n",
        "                    'dense1_activation',\n",
        "                    values=['relu', 'tanh', 'sigmoid'],\n",
        "                    default='relu'\n",
        "                )\n",
        "            )\n",
        "        )\n",
        "        model.add(\n",
        "            Dropout(\n",
        "                rate=hp.Float(\n",
        "                    'dropout_D1',\n",
        "                    min_value=0.0,\n",
        "                    max_value=0.5,\n",
        "                    default=0.2,\n",
        "                    step=0.05\n",
        "                )\n",
        "            )\n",
        "        )\n",
        "        model.add(\n",
        "            Dense(\n",
        "                units=hp.Int(\n",
        "                    'units_D2',\n",
        "                    min_value=32,\n",
        "                    max_value=512,\n",
        "                    step=32,\n",
        "                    default=128\n",
        "                ),\n",
        "                activation=hp.Choice(\n",
        "                    'dense2_activation',\n",
        "                    values=['relu', 'tanh', 'sigmoid'],\n",
        "                    default='relu'\n",
        "                )\n",
        "            )\n",
        "        )\n",
        "        model.add(\n",
        "            Dropout(\n",
        "                rate=hp.Float(\n",
        "                    'dropout_D2',\n",
        "                    min_value=0.0,\n",
        "                    max_value=0.5,\n",
        "                    default=0.2,\n",
        "                    step=0.05\n",
        "                )\n",
        "            )\n",
        "        )\n",
        "        model.add(Dense(self.num_classes, activation='sigmoid'))\n",
        "\n",
        "        model.compile(\n",
        "            optimizer=keras.optimizers.Adam(\n",
        "                hp.Float(\n",
        "                    'learning_rate',\n",
        "                    min_value=1e-4,\n",
        "                    max_value=1e-2,\n",
        "                    sampling='LOG',\n",
        "                    default=1e-3\n",
        "                )\n",
        "            ),\n",
        "            loss='sparse_categorical_crossentropy',\n",
        "            metrics=['accuracy']\n",
        "        )\n",
        "        return model\n",
        "\n",
        "hypermodel = CNNHyperModel(input_shape=INPUT_SHAPE, num_classes=NUM_CLASSES)\n"
      ],
      "metadata": {
        "id": "n-VtFjkhEbkn",
        "colab": {
          "base_uri": "https://localhost:8080/"
        },
        "outputId": "263cc0fe-90f1-4d74-a69d-dffdf3e6f453"
      },
      "execution_count": null,
      "outputs": [
        {
          "output_type": "stream",
          "name": "stderr",
          "text": [
            "<ipython-input-102-979dc02a5c42>:1: DeprecationWarning: `import kerastuner` is deprecated, please use `import keras_tuner`.\n",
            "  from kerastuner import HyperModel\n"
          ]
        }
      ]
    },
    {
      "cell_type": "code",
      "source": [
        "from kerastuner.tuners import RandomSearch\n",
        "from kerastuner.tuners import Hyperband\n",
        "\n",
        "NUM_CLASSES = 2 # chest x ray  number of classes\n",
        "INPUT_SHAPE = X_train.shape[1:]  # chest x ray images input shape\n",
        "HYPERBAND_MAX_EPOCHS = 40\n",
        "MAX_TRIALS = 5\n",
        "EXECUTION_PER_TRIAL = 2\n",
        "hypermodel = CNNHyperModel(input_shape=INPUT_SHAPE, num_classes=NUM_CLASSES)\n",
        "\n",
        "tuner = RandomSearch(\n",
        "    hypermodel,\n",
        "    objective='val_accuracy',\n",
        "    seed=1,\n",
        "    max_trials=MAX_TRIALS,\n",
        "    executions_per_trial=EXECUTION_PER_TRIAL,\n",
        "    directory='random_search',\n",
        "    project_name='chest_x_ray'\n",
        ")\n",
        "\n",
        "tuner = Hyperband(\n",
        "    hypermodel,\n",
        "    max_epochs=HYPERBAND_MAX_EPOCHS,\n",
        "    objective='val_accuracy',\n",
        "    seed=1,\n",
        "    executions_per_trial=EXECUTION_PER_TRIAL,\n",
        "    directory='hyperband',\n",
        "    project_name='chest_x_ray'\n",
        ")"
      ],
      "metadata": {
        "id": "c4rkSJgAvV-p"
      },
      "execution_count": null,
      "outputs": []
    },
    {
      "cell_type": "code",
      "source": [
        "tuner.search_space_summary()"
      ],
      "metadata": {
        "colab": {
          "base_uri": "https://localhost:8080/"
        },
        "id": "_IlcmfYjw47Z",
        "outputId": "1e5515ba-f0d1-4296-9348-94b65b8b61f4"
      },
      "execution_count": null,
      "outputs": [
        {
          "output_type": "stream",
          "name": "stdout",
          "text": [
            "Search space summary\n",
            "Default search space size: 12\n",
            "num_filters_L2 (Choice)\n",
            "{'default': 32, 'conditions': [], 'values': [32, 64, 128, 256], 'ordered': True}\n",
            "dropout_L2 (Float)\n",
            "{'default': 0.1, 'conditions': [], 'min_value': 0.0, 'max_value': 0.5, 'step': 0.05, 'sampling': None}\n",
            "num_filters_L3 (Choice)\n",
            "{'default': 64, 'conditions': [], 'values': [32, 64, 128, 256], 'ordered': True}\n",
            "dropout_L3 (Float)\n",
            "{'default': 0.2, 'conditions': [], 'min_value': 0.0, 'max_value': 0.5, 'step': 0.05, 'sampling': None}\n",
            "dropout_L5 (Float)\n",
            "{'default': 0.2, 'conditions': [], 'min_value': 0.0, 'max_value': 0.5, 'step': 0.05, 'sampling': None}\n",
            "units_D1 (Int)\n",
            "{'default': 256, 'conditions': [], 'min_value': 32, 'max_value': 512, 'step': 32, 'sampling': None}\n",
            "dense1_activation (Choice)\n",
            "{'default': 'relu', 'conditions': [], 'values': ['relu', 'tanh', 'sigmoid'], 'ordered': False}\n",
            "dropout_D1 (Float)\n",
            "{'default': 0.2, 'conditions': [], 'min_value': 0.0, 'max_value': 0.5, 'step': 0.05, 'sampling': None}\n",
            "units_D2 (Int)\n",
            "{'default': 128, 'conditions': [], 'min_value': 32, 'max_value': 512, 'step': 32, 'sampling': None}\n",
            "dense2_activation (Choice)\n",
            "{'default': 'relu', 'conditions': [], 'values': ['relu', 'tanh', 'sigmoid'], 'ordered': False}\n",
            "dropout_D2 (Float)\n",
            "{'default': 0.2, 'conditions': [], 'min_value': 0.0, 'max_value': 0.5, 'step': 0.05, 'sampling': None}\n",
            "learning_rate (Float)\n",
            "{'default': 0.001, 'conditions': [], 'min_value': 0.0001, 'max_value': 0.01, 'step': None, 'sampling': 'log'}\n"
          ]
        }
      ]
    },
    {
      "cell_type": "code",
      "source": [
        "tuner.search(X_train, Y_train, epochs=15, validation_split=0.1)"
      ],
      "metadata": {
        "colab": {
          "base_uri": "https://localhost:8080/",
          "height": 1000
        },
        "id": "1jU1CAoLQ9ki",
        "outputId": "6efae529-1cca-436a-bc1a-05cd408e17fa"
      },
      "execution_count": null,
      "outputs": [
        {
          "output_type": "stream",
          "name": "stdout",
          "text": [
            "Trial 85 Complete [00h 05m 46s]\n",
            "val_accuracy: 0.9073170721530914\n",
            "\n",
            "Best val_accuracy So Far: 0.9658536612987518\n",
            "Total elapsed time: 01h 34m 48s\n",
            "\n",
            "Search: Running Trial #86\n",
            "\n",
            "Value             |Best Value So Far |Hyperparameter\n",
            "128               |256               |num_filters_L2\n",
            "0.5               |0.45              |dropout_L2\n",
            "256               |256               |num_filters_L3\n",
            "0.4               |0.25              |dropout_L3\n",
            "0.3               |0.2               |dropout_L5\n",
            "192               |64                |units_D1\n",
            "sigmoid           |relu              |dense1_activation\n",
            "0.45              |0.35              |dropout_D1\n",
            "256               |352               |units_D2\n",
            "sigmoid           |relu              |dense2_activation\n",
            "0.15              |0.15              |dropout_D2\n",
            "0.00021647        |0.00014023        |learning_rate\n",
            "40                |14                |tuner/epochs\n",
            "0                 |5                 |tuner/initial_epoch\n",
            "0                 |3                 |tuner/bracket\n",
            "0                 |2                 |tuner/round\n",
            "\n",
            "Epoch 1/40\n",
            "  6/116 [>.............................] - ETA: 4s - loss: 0.6337 - accuracy: 0.6562"
          ]
        },
        {
          "output_type": "stream",
          "name": "stderr",
          "text": [
            "WARNING:tensorflow:Callback method `on_train_batch_end` is slow compared to the batch time (batch time: 0.0188s vs `on_train_batch_end` time: 0.0250s). Check your callbacks.\n"
          ]
        },
        {
          "output_type": "stream",
          "name": "stdout",
          "text": [
            "116/116 [==============================] - 5s 39ms/step - loss: 0.5043 - accuracy: 0.8062 - val_loss: 1.6545 - val_accuracy: 0.0000e+00\n",
            "Epoch 2/40\n",
            "116/116 [==============================] - 4s 37ms/step - loss: 0.4912 - accuracy: 0.8100 - val_loss: 1.0625 - val_accuracy: 0.0000e+00\n",
            "Epoch 3/40\n",
            "116/116 [==============================] - 4s 37ms/step - loss: 0.3060 - accuracy: 0.8669 - val_loss: 0.4361 - val_accuracy: 0.8463\n",
            "Epoch 4/40\n",
            "116/116 [==============================] - 4s 36ms/step - loss: 0.2477 - accuracy: 0.8929 - val_loss: 0.4016 - val_accuracy: 0.8805\n",
            "Epoch 5/40\n",
            "116/116 [==============================] - 4s 36ms/step - loss: 0.2232 - accuracy: 0.9067 - val_loss: 0.4790 - val_accuracy: 0.8390\n",
            "Epoch 6/40\n",
            "116/116 [==============================] - 4s 37ms/step - loss: 0.1834 - accuracy: 0.9284 - val_loss: 0.3911 - val_accuracy: 0.8732\n",
            "Epoch 7/40\n",
            "116/116 [==============================] - 4s 36ms/step - loss: 0.1610 - accuracy: 0.9368 - val_loss: 0.5690 - val_accuracy: 0.8073\n",
            "Epoch 8/40\n",
            "116/116 [==============================] - 4s 36ms/step - loss: 0.1593 - accuracy: 0.9385 - val_loss: 0.3061 - val_accuracy: 0.8780\n",
            "Epoch 9/40\n",
            "116/116 [==============================] - 4s 37ms/step - loss: 0.1484 - accuracy: 0.9444 - val_loss: 0.3266 - val_accuracy: 0.8707\n",
            "Epoch 10/40\n",
            "116/116 [==============================] - 4s 37ms/step - loss: 0.1363 - accuracy: 0.9493 - val_loss: 1.0770 - val_accuracy: 0.6171\n",
            "Epoch 11/40\n",
            "116/116 [==============================] - 4s 37ms/step - loss: 0.1362 - accuracy: 0.9474 - val_loss: 0.3766 - val_accuracy: 0.8683\n",
            "Epoch 12/40\n",
            "116/116 [==============================] - 4s 37ms/step - loss: 0.1206 - accuracy: 0.9555 - val_loss: 0.6201 - val_accuracy: 0.8000\n",
            "Epoch 13/40\n",
            "116/116 [==============================] - 4s 36ms/step - loss: 0.1161 - accuracy: 0.9564 - val_loss: 0.3877 - val_accuracy: 0.8610\n",
            "Epoch 14/40\n",
            "116/116 [==============================] - 4s 38ms/step - loss: 0.1137 - accuracy: 0.9588 - val_loss: 0.6047 - val_accuracy: 0.7829\n",
            "Epoch 15/40\n",
            "116/116 [==============================] - 4s 36ms/step - loss: 0.1156 - accuracy: 0.9585 - val_loss: 0.6065 - val_accuracy: 0.7976\n",
            "Epoch 16/40\n",
            "116/116 [==============================] - 4s 37ms/step - loss: 0.1057 - accuracy: 0.9599 - val_loss: 0.6275 - val_accuracy: 0.7780\n",
            "Epoch 17/40\n",
            "116/116 [==============================] - 4s 36ms/step - loss: 0.1007 - accuracy: 0.9639 - val_loss: 0.4334 - val_accuracy: 0.8488\n",
            "Epoch 18/40\n",
            "116/116 [==============================] - 4s 36ms/step - loss: 0.0931 - accuracy: 0.9642 - val_loss: 0.6560 - val_accuracy: 0.7610\n",
            "Epoch 19/40\n",
            "116/116 [==============================] - 4s 38ms/step - loss: 0.0867 - accuracy: 0.9694 - val_loss: 0.6789 - val_accuracy: 0.7756\n",
            "Epoch 20/40\n",
            "116/116 [==============================] - 4s 38ms/step - loss: 0.0801 - accuracy: 0.9715 - val_loss: 0.4008 - val_accuracy: 0.8512\n",
            "Epoch 21/40\n",
            "116/116 [==============================] - 5s 39ms/step - loss: 0.0820 - accuracy: 0.9702 - val_loss: 0.2308 - val_accuracy: 0.9220\n",
            "Epoch 22/40\n",
            "116/116 [==============================] - 5s 40ms/step - loss: 0.0877 - accuracy: 0.9680 - val_loss: 0.6768 - val_accuracy: 0.7683\n",
            "Epoch 23/40\n",
            "116/116 [==============================] - 4s 39ms/step - loss: 0.0705 - accuracy: 0.9745 - val_loss: 0.6069 - val_accuracy: 0.8049\n",
            "Epoch 24/40\n",
            "116/116 [==============================] - 5s 39ms/step - loss: 0.0754 - accuracy: 0.9710 - val_loss: 0.6063 - val_accuracy: 0.8049\n",
            "Epoch 25/40\n",
            "116/116 [==============================] - 4s 37ms/step - loss: 0.0660 - accuracy: 0.9759 - val_loss: 0.5289 - val_accuracy: 0.8366\n",
            "Epoch 26/40\n",
            "116/116 [==============================] - 4s 38ms/step - loss: 0.0724 - accuracy: 0.9734 - val_loss: 0.7130 - val_accuracy: 0.7659\n",
            "Epoch 27/40\n",
            "116/116 [==============================] - 4s 37ms/step - loss: 0.0553 - accuracy: 0.9808 - val_loss: 0.5658 - val_accuracy: 0.8366\n",
            "Epoch 28/40\n",
            "116/116 [==============================] - 4s 38ms/step - loss: 0.0553 - accuracy: 0.9799 - val_loss: 0.5008 - val_accuracy: 0.8463\n",
            "Epoch 29/40\n",
            "116/116 [==============================] - 4s 38ms/step - loss: 0.0594 - accuracy: 0.9797 - val_loss: 0.9077 - val_accuracy: 0.7122\n",
            "Epoch 30/40\n",
            "116/116 [==============================] - 4s 36ms/step - loss: 0.0587 - accuracy: 0.9799 - val_loss: 0.4783 - val_accuracy: 0.8634\n",
            "Epoch 31/40\n",
            "116/116 [==============================] - 4s 37ms/step - loss: 0.0533 - accuracy: 0.9799 - val_loss: 0.7567 - val_accuracy: 0.7634\n",
            "Epoch 32/40\n",
            "116/116 [==============================] - 4s 36ms/step - loss: 0.0534 - accuracy: 0.9827 - val_loss: 0.4921 - val_accuracy: 0.8610\n",
            "Epoch 33/40\n",
            "116/116 [==============================] - 4s 37ms/step - loss: 0.0404 - accuracy: 0.9875 - val_loss: 0.5936 - val_accuracy: 0.8171\n",
            "Epoch 34/40\n",
            "116/116 [==============================] - 4s 36ms/step - loss: 0.0398 - accuracy: 0.9859 - val_loss: 0.8455 - val_accuracy: 0.7659\n",
            "Epoch 35/40\n",
            "116/116 [==============================] - 4s 38ms/step - loss: 0.0515 - accuracy: 0.9786 - val_loss: 0.6321 - val_accuracy: 0.8390\n",
            "Epoch 36/40\n",
            "116/116 [==============================] - 4s 36ms/step - loss: 0.0375 - accuracy: 0.9900 - val_loss: 0.5051 - val_accuracy: 0.8659\n",
            "Epoch 37/40\n",
            "116/116 [==============================] - 4s 37ms/step - loss: 0.0379 - accuracy: 0.9864 - val_loss: 0.8150 - val_accuracy: 0.7829\n",
            "Epoch 38/40\n",
            "116/116 [==============================] - 4s 36ms/step - loss: 0.0390 - accuracy: 0.9845 - val_loss: 0.6619 - val_accuracy: 0.8293\n",
            "Epoch 39/40\n",
            "116/116 [==============================] - 4s 38ms/step - loss: 0.0318 - accuracy: 0.9905 - val_loss: 0.7827 - val_accuracy: 0.8195\n",
            "Epoch 40/40\n",
            "116/116 [==============================] - 4s 38ms/step - loss: 0.0374 - accuracy: 0.9864 - val_loss: 0.7723 - val_accuracy: 0.8098\n",
            "Epoch 1/40\n",
            "  6/116 [>.............................] - ETA: 5s - loss: 0.7250 - accuracy: 0.5365"
          ]
        },
        {
          "output_type": "stream",
          "name": "stderr",
          "text": [
            "WARNING:tensorflow:Callback method `on_train_batch_end` is slow compared to the batch time (batch time: 0.0180s vs `on_train_batch_end` time: 0.0261s). Check your callbacks.\n"
          ]
        },
        {
          "output_type": "stream",
          "name": "stdout",
          "text": [
            "116/116 [==============================] - 5s 40ms/step - loss: 0.5170 - accuracy: 0.7943 - val_loss: 1.6269 - val_accuracy: 0.0000e+00\n",
            "Epoch 2/40\n",
            "116/116 [==============================] - 4s 38ms/step - loss: 0.4787 - accuracy: 0.8100 - val_loss: 1.5804 - val_accuracy: 0.0000e+00\n",
            "Epoch 3/40\n",
            "116/116 [==============================] - 4s 37ms/step - loss: 0.3012 - accuracy: 0.8707 - val_loss: 0.4181 - val_accuracy: 0.9049\n",
            "Epoch 4/40\n",
            "116/116 [==============================] - 4s 38ms/step - loss: 0.2266 - accuracy: 0.9062 - val_loss: 0.3439 - val_accuracy: 0.9220\n",
            "Epoch 5/40\n",
            "116/116 [==============================] - 4s 39ms/step - loss: 0.2269 - accuracy: 0.9067 - val_loss: 0.6969 - val_accuracy: 0.6951\n",
            "Epoch 6/40\n",
            "116/116 [==============================] - 4s 39ms/step - loss: 0.1822 - accuracy: 0.9276 - val_loss: 0.7497 - val_accuracy: 0.7293\n",
            "Epoch 7/40\n",
            "116/116 [==============================] - 4s 38ms/step - loss: 0.1729 - accuracy: 0.9309 - val_loss: 0.3852 - val_accuracy: 0.8780\n",
            "Epoch 8/40\n",
            "116/116 [==============================] - 4s 38ms/step - loss: 0.1633 - accuracy: 0.9355 - val_loss: 0.4634 - val_accuracy: 0.8098\n",
            "Epoch 9/40\n",
            "116/116 [==============================] - 4s 37ms/step - loss: 0.1525 - accuracy: 0.9385 - val_loss: 0.3144 - val_accuracy: 0.8976\n",
            "Epoch 10/40\n",
            "116/116 [==============================] - 4s 37ms/step - loss: 0.1449 - accuracy: 0.9463 - val_loss: 0.4869 - val_accuracy: 0.8317\n",
            "Epoch 11/40\n",
            "116/116 [==============================] - 4s 38ms/step - loss: 0.1354 - accuracy: 0.9490 - val_loss: 0.6017 - val_accuracy: 0.7634\n",
            "Epoch 12/40\n",
            "116/116 [==============================] - 4s 38ms/step - loss: 0.1383 - accuracy: 0.9436 - val_loss: 0.6486 - val_accuracy: 0.7659\n",
            "Epoch 13/40\n",
            "116/116 [==============================] - 4s 38ms/step - loss: 0.1159 - accuracy: 0.9569 - val_loss: 0.2758 - val_accuracy: 0.9024\n",
            "Epoch 14/40\n",
            "116/116 [==============================] - 4s 38ms/step - loss: 0.1136 - accuracy: 0.9553 - val_loss: 0.6270 - val_accuracy: 0.7854\n",
            "Epoch 15/40\n",
            "116/116 [==============================] - 4s 38ms/step - loss: 0.1124 - accuracy: 0.9553 - val_loss: 0.6649 - val_accuracy: 0.7146\n",
            "Epoch 16/40\n",
            "116/116 [==============================] - 4s 36ms/step - loss: 0.0990 - accuracy: 0.9620 - val_loss: 0.5147 - val_accuracy: 0.8220\n",
            "Epoch 17/40\n",
            "116/116 [==============================] - 4s 38ms/step - loss: 0.0865 - accuracy: 0.9688 - val_loss: 0.3733 - val_accuracy: 0.8780\n",
            "Epoch 18/40\n",
            "116/116 [==============================] - 4s 36ms/step - loss: 0.0733 - accuracy: 0.9745 - val_loss: 0.6630 - val_accuracy: 0.7805\n",
            "Epoch 19/40\n",
            "116/116 [==============================] - 4s 38ms/step - loss: 0.0787 - accuracy: 0.9726 - val_loss: 0.6587 - val_accuracy: 0.7610\n",
            "Epoch 20/40\n",
            "116/116 [==============================] - 4s 37ms/step - loss: 0.0764 - accuracy: 0.9721 - val_loss: 0.6070 - val_accuracy: 0.7902\n",
            "Epoch 21/40\n",
            "116/116 [==============================] - 4s 37ms/step - loss: 0.0745 - accuracy: 0.9713 - val_loss: 0.8039 - val_accuracy: 0.7390\n",
            "Epoch 22/40\n",
            "116/116 [==============================] - 4s 38ms/step - loss: 0.0620 - accuracy: 0.9786 - val_loss: 0.6747 - val_accuracy: 0.8171\n",
            "Epoch 23/40\n",
            "116/116 [==============================] - 4s 37ms/step - loss: 0.0689 - accuracy: 0.9767 - val_loss: 0.5145 - val_accuracy: 0.8390\n",
            "Epoch 24/40\n",
            "116/116 [==============================] - 4s 37ms/step - loss: 0.0671 - accuracy: 0.9753 - val_loss: 0.3168 - val_accuracy: 0.9000\n",
            "Epoch 25/40\n",
            "116/116 [==============================] - 4s 38ms/step - loss: 0.0571 - accuracy: 0.9816 - val_loss: 0.6937 - val_accuracy: 0.7927\n",
            "Epoch 26/40\n",
            "116/116 [==============================] - 4s 37ms/step - loss: 0.0487 - accuracy: 0.9832 - val_loss: 0.7707 - val_accuracy: 0.8049\n",
            "Epoch 27/40\n",
            "116/116 [==============================] - 5s 39ms/step - loss: 0.0522 - accuracy: 0.9808 - val_loss: 0.7023 - val_accuracy: 0.8146\n",
            "Epoch 28/40\n",
            "116/116 [==============================] - 5s 40ms/step - loss: 0.0650 - accuracy: 0.9751 - val_loss: 0.4488 - val_accuracy: 0.8683\n",
            "Epoch 29/40\n",
            "116/116 [==============================] - 4s 37ms/step - loss: 0.0501 - accuracy: 0.9837 - val_loss: 0.5419 - val_accuracy: 0.8537\n",
            "Epoch 30/40\n",
            "116/116 [==============================] - 4s 37ms/step - loss: 0.0554 - accuracy: 0.9802 - val_loss: 0.5348 - val_accuracy: 0.8366\n",
            "Epoch 31/40\n",
            "116/116 [==============================] - 4s 38ms/step - loss: 0.0426 - accuracy: 0.9840 - val_loss: 0.6265 - val_accuracy: 0.8439\n",
            "Epoch 32/40\n",
            "116/116 [==============================] - 4s 38ms/step - loss: 0.0396 - accuracy: 0.9864 - val_loss: 0.5132 - val_accuracy: 0.8610\n",
            "Epoch 33/40\n",
            "116/116 [==============================] - 4s 38ms/step - loss: 0.0351 - accuracy: 0.9873 - val_loss: 0.6527 - val_accuracy: 0.8293\n",
            "Epoch 34/40\n",
            "116/116 [==============================] - 4s 36ms/step - loss: 0.0368 - accuracy: 0.9889 - val_loss: 0.5914 - val_accuracy: 0.8341\n",
            "Epoch 35/40\n",
            "115/116 [============================>.] - ETA: 0s - loss: 0.0295 - accuracy: 0.9897"
          ]
        },
        {
          "output_type": "error",
          "ename": "KeyboardInterrupt",
          "evalue": "ignored",
          "traceback": [
            "\u001b[0;31m---------------------------------------------------------------------------\u001b[0m",
            "\u001b[0;31mKeyboardInterrupt\u001b[0m                         Traceback (most recent call last)",
            "\u001b[0;32m<ipython-input-20-d011ca0f04a6>\u001b[0m in \u001b[0;36m<module>\u001b[0;34m\u001b[0m\n\u001b[0;32m----> 1\u001b[0;31m \u001b[0mtuner\u001b[0m\u001b[0;34m.\u001b[0m\u001b[0msearch\u001b[0m\u001b[0;34m(\u001b[0m\u001b[0mX_train\u001b[0m\u001b[0;34m,\u001b[0m \u001b[0mY_train\u001b[0m\u001b[0;34m,\u001b[0m \u001b[0mepochs\u001b[0m\u001b[0;34m=\u001b[0m\u001b[0;36m15\u001b[0m\u001b[0;34m,\u001b[0m \u001b[0mvalidation_split\u001b[0m\u001b[0;34m=\u001b[0m\u001b[0;36m0.1\u001b[0m\u001b[0;34m)\u001b[0m\u001b[0;34m\u001b[0m\u001b[0;34m\u001b[0m\u001b[0m\n\u001b[0m",
            "\u001b[0;32m/usr/local/lib/python3.8/dist-packages/keras_tuner/engine/base_tuner.py\u001b[0m in \u001b[0;36msearch\u001b[0;34m(self, *fit_args, **fit_kwargs)\u001b[0m\n\u001b[1;32m    181\u001b[0m \u001b[0;34m\u001b[0m\u001b[0m\n\u001b[1;32m    182\u001b[0m             \u001b[0mself\u001b[0m\u001b[0;34m.\u001b[0m\u001b[0mon_trial_begin\u001b[0m\u001b[0;34m(\u001b[0m\u001b[0mtrial\u001b[0m\u001b[0;34m)\u001b[0m\u001b[0;34m\u001b[0m\u001b[0;34m\u001b[0m\u001b[0m\n\u001b[0;32m--> 183\u001b[0;31m             \u001b[0mresults\u001b[0m \u001b[0;34m=\u001b[0m \u001b[0mself\u001b[0m\u001b[0;34m.\u001b[0m\u001b[0mrun_trial\u001b[0m\u001b[0;34m(\u001b[0m\u001b[0mtrial\u001b[0m\u001b[0;34m,\u001b[0m \u001b[0;34m*\u001b[0m\u001b[0mfit_args\u001b[0m\u001b[0;34m,\u001b[0m \u001b[0;34m**\u001b[0m\u001b[0mfit_kwargs\u001b[0m\u001b[0;34m)\u001b[0m\u001b[0;34m\u001b[0m\u001b[0;34m\u001b[0m\u001b[0m\n\u001b[0m\u001b[1;32m    184\u001b[0m             \u001b[0;31m# `results` is None indicates user updated oracle in `run_trial()`.\u001b[0m\u001b[0;34m\u001b[0m\u001b[0;34m\u001b[0m\u001b[0;34m\u001b[0m\u001b[0m\n\u001b[1;32m    185\u001b[0m             \u001b[0;32mif\u001b[0m \u001b[0mresults\u001b[0m \u001b[0;32mis\u001b[0m \u001b[0;32mNone\u001b[0m\u001b[0;34m:\u001b[0m\u001b[0;34m\u001b[0m\u001b[0;34m\u001b[0m\u001b[0m\n",
            "\u001b[0;32m/usr/local/lib/python3.8/dist-packages/keras_tuner/tuners/hyperband.py\u001b[0m in \u001b[0;36mrun_trial\u001b[0;34m(self, trial, *fit_args, **fit_kwargs)\u001b[0m\n\u001b[1;32m    382\u001b[0m             \u001b[0mfit_kwargs\u001b[0m\u001b[0;34m[\u001b[0m\u001b[0;34m\"epochs\"\u001b[0m\u001b[0;34m]\u001b[0m \u001b[0;34m=\u001b[0m \u001b[0mhp\u001b[0m\u001b[0;34m.\u001b[0m\u001b[0mvalues\u001b[0m\u001b[0;34m[\u001b[0m\u001b[0;34m\"tuner/epochs\"\u001b[0m\u001b[0;34m]\u001b[0m\u001b[0;34m\u001b[0m\u001b[0;34m\u001b[0m\u001b[0m\n\u001b[1;32m    383\u001b[0m             \u001b[0mfit_kwargs\u001b[0m\u001b[0;34m[\u001b[0m\u001b[0;34m\"initial_epoch\"\u001b[0m\u001b[0;34m]\u001b[0m \u001b[0;34m=\u001b[0m \u001b[0mhp\u001b[0m\u001b[0;34m.\u001b[0m\u001b[0mvalues\u001b[0m\u001b[0;34m[\u001b[0m\u001b[0;34m\"tuner/initial_epoch\"\u001b[0m\u001b[0;34m]\u001b[0m\u001b[0;34m\u001b[0m\u001b[0;34m\u001b[0m\u001b[0m\n\u001b[0;32m--> 384\u001b[0;31m         \u001b[0;32mreturn\u001b[0m \u001b[0msuper\u001b[0m\u001b[0;34m(\u001b[0m\u001b[0mHyperband\u001b[0m\u001b[0;34m,\u001b[0m \u001b[0mself\u001b[0m\u001b[0;34m)\u001b[0m\u001b[0;34m.\u001b[0m\u001b[0mrun_trial\u001b[0m\u001b[0;34m(\u001b[0m\u001b[0mtrial\u001b[0m\u001b[0;34m,\u001b[0m \u001b[0;34m*\u001b[0m\u001b[0mfit_args\u001b[0m\u001b[0;34m,\u001b[0m \u001b[0;34m**\u001b[0m\u001b[0mfit_kwargs\u001b[0m\u001b[0;34m)\u001b[0m\u001b[0;34m\u001b[0m\u001b[0;34m\u001b[0m\u001b[0m\n\u001b[0m\u001b[1;32m    385\u001b[0m \u001b[0;34m\u001b[0m\u001b[0m\n\u001b[1;32m    386\u001b[0m     \u001b[0;32mdef\u001b[0m \u001b[0m_build_model\u001b[0m\u001b[0;34m(\u001b[0m\u001b[0mself\u001b[0m\u001b[0;34m,\u001b[0m \u001b[0mhp\u001b[0m\u001b[0;34m)\u001b[0m\u001b[0;34m:\u001b[0m\u001b[0;34m\u001b[0m\u001b[0;34m\u001b[0m\u001b[0m\n",
            "\u001b[0;32m/usr/local/lib/python3.8/dist-packages/keras_tuner/engine/tuner.py\u001b[0m in \u001b[0;36mrun_trial\u001b[0;34m(self, trial, *args, **kwargs)\u001b[0m\n\u001b[1;32m    293\u001b[0m             \u001b[0mcallbacks\u001b[0m\u001b[0;34m.\u001b[0m\u001b[0mappend\u001b[0m\u001b[0;34m(\u001b[0m\u001b[0mmodel_checkpoint\u001b[0m\u001b[0;34m)\u001b[0m\u001b[0;34m\u001b[0m\u001b[0;34m\u001b[0m\u001b[0m\n\u001b[1;32m    294\u001b[0m             \u001b[0mcopied_kwargs\u001b[0m\u001b[0;34m[\u001b[0m\u001b[0;34m\"callbacks\"\u001b[0m\u001b[0;34m]\u001b[0m \u001b[0;34m=\u001b[0m \u001b[0mcallbacks\u001b[0m\u001b[0;34m\u001b[0m\u001b[0;34m\u001b[0m\u001b[0m\n\u001b[0;32m--> 295\u001b[0;31m             \u001b[0mobj_value\u001b[0m \u001b[0;34m=\u001b[0m \u001b[0mself\u001b[0m\u001b[0;34m.\u001b[0m\u001b[0m_build_and_fit_model\u001b[0m\u001b[0;34m(\u001b[0m\u001b[0mtrial\u001b[0m\u001b[0;34m,\u001b[0m \u001b[0;34m*\u001b[0m\u001b[0margs\u001b[0m\u001b[0;34m,\u001b[0m \u001b[0;34m**\u001b[0m\u001b[0mcopied_kwargs\u001b[0m\u001b[0;34m)\u001b[0m\u001b[0;34m\u001b[0m\u001b[0;34m\u001b[0m\u001b[0m\n\u001b[0m\u001b[1;32m    296\u001b[0m \u001b[0;34m\u001b[0m\u001b[0m\n\u001b[1;32m    297\u001b[0m             \u001b[0mhistories\u001b[0m\u001b[0;34m.\u001b[0m\u001b[0mappend\u001b[0m\u001b[0;34m(\u001b[0m\u001b[0mobj_value\u001b[0m\u001b[0;34m)\u001b[0m\u001b[0;34m\u001b[0m\u001b[0;34m\u001b[0m\u001b[0m\n",
            "\u001b[0;32m/usr/local/lib/python3.8/dist-packages/keras_tuner/engine/tuner.py\u001b[0m in \u001b[0;36m_build_and_fit_model\u001b[0;34m(self, trial, *args, **kwargs)\u001b[0m\n\u001b[1;32m    220\u001b[0m         \u001b[0mhp\u001b[0m \u001b[0;34m=\u001b[0m \u001b[0mtrial\u001b[0m\u001b[0;34m.\u001b[0m\u001b[0mhyperparameters\u001b[0m\u001b[0;34m\u001b[0m\u001b[0;34m\u001b[0m\u001b[0m\n\u001b[1;32m    221\u001b[0m         \u001b[0mmodel\u001b[0m \u001b[0;34m=\u001b[0m \u001b[0mself\u001b[0m\u001b[0;34m.\u001b[0m\u001b[0m_try_build\u001b[0m\u001b[0;34m(\u001b[0m\u001b[0mhp\u001b[0m\u001b[0;34m)\u001b[0m\u001b[0;34m\u001b[0m\u001b[0;34m\u001b[0m\u001b[0m\n\u001b[0;32m--> 222\u001b[0;31m         \u001b[0mresults\u001b[0m \u001b[0;34m=\u001b[0m \u001b[0mself\u001b[0m\u001b[0;34m.\u001b[0m\u001b[0mhypermodel\u001b[0m\u001b[0;34m.\u001b[0m\u001b[0mfit\u001b[0m\u001b[0;34m(\u001b[0m\u001b[0mhp\u001b[0m\u001b[0;34m,\u001b[0m \u001b[0mmodel\u001b[0m\u001b[0;34m,\u001b[0m \u001b[0;34m*\u001b[0m\u001b[0margs\u001b[0m\u001b[0;34m,\u001b[0m \u001b[0;34m**\u001b[0m\u001b[0mkwargs\u001b[0m\u001b[0;34m)\u001b[0m\u001b[0;34m\u001b[0m\u001b[0;34m\u001b[0m\u001b[0m\n\u001b[0m\u001b[1;32m    223\u001b[0m         tuner_utils.validate_trial_results(\n\u001b[1;32m    224\u001b[0m             \u001b[0mresults\u001b[0m\u001b[0;34m,\u001b[0m \u001b[0mself\u001b[0m\u001b[0;34m.\u001b[0m\u001b[0moracle\u001b[0m\u001b[0;34m.\u001b[0m\u001b[0mobjective\u001b[0m\u001b[0;34m,\u001b[0m \u001b[0;34m\"HyperModel.fit()\"\u001b[0m\u001b[0;34m\u001b[0m\u001b[0;34m\u001b[0m\u001b[0m\n",
            "\u001b[0;32m/usr/local/lib/python3.8/dist-packages/keras_tuner/engine/hypermodel.py\u001b[0m in \u001b[0;36mfit\u001b[0;34m(self, hp, model, *args, **kwargs)\u001b[0m\n\u001b[1;32m    138\u001b[0m             \u001b[0mIf\u001b[0m \u001b[0;32mreturn\u001b[0m \u001b[0ma\u001b[0m \u001b[0mfloat\u001b[0m\u001b[0;34m,\u001b[0m \u001b[0mit\u001b[0m \u001b[0mshould\u001b[0m \u001b[0mbe\u001b[0m \u001b[0mthe\u001b[0m\u001b[0;31m \u001b[0m\u001b[0;31m`\u001b[0m\u001b[0mobjective\u001b[0m\u001b[0;31m`\u001b[0m \u001b[0mvalue\u001b[0m\u001b[0;34m.\u001b[0m\u001b[0;34m\u001b[0m\u001b[0;34m\u001b[0m\u001b[0m\n\u001b[1;32m    139\u001b[0m         \"\"\"\n\u001b[0;32m--> 140\u001b[0;31m         \u001b[0;32mreturn\u001b[0m \u001b[0mmodel\u001b[0m\u001b[0;34m.\u001b[0m\u001b[0mfit\u001b[0m\u001b[0;34m(\u001b[0m\u001b[0;34m*\u001b[0m\u001b[0margs\u001b[0m\u001b[0;34m,\u001b[0m \u001b[0;34m**\u001b[0m\u001b[0mkwargs\u001b[0m\u001b[0;34m)\u001b[0m\u001b[0;34m\u001b[0m\u001b[0;34m\u001b[0m\u001b[0m\n\u001b[0m\u001b[1;32m    141\u001b[0m \u001b[0;34m\u001b[0m\u001b[0m\n\u001b[1;32m    142\u001b[0m \u001b[0;34m\u001b[0m\u001b[0m\n",
            "\u001b[0;32m/usr/local/lib/python3.8/dist-packages/keras/utils/traceback_utils.py\u001b[0m in \u001b[0;36merror_handler\u001b[0;34m(*args, **kwargs)\u001b[0m\n\u001b[1;32m     62\u001b[0m     \u001b[0mfiltered_tb\u001b[0m \u001b[0;34m=\u001b[0m \u001b[0;32mNone\u001b[0m\u001b[0;34m\u001b[0m\u001b[0;34m\u001b[0m\u001b[0m\n\u001b[1;32m     63\u001b[0m     \u001b[0;32mtry\u001b[0m\u001b[0;34m:\u001b[0m\u001b[0;34m\u001b[0m\u001b[0;34m\u001b[0m\u001b[0m\n\u001b[0;32m---> 64\u001b[0;31m       \u001b[0;32mreturn\u001b[0m \u001b[0mfn\u001b[0m\u001b[0;34m(\u001b[0m\u001b[0;34m*\u001b[0m\u001b[0margs\u001b[0m\u001b[0;34m,\u001b[0m \u001b[0;34m**\u001b[0m\u001b[0mkwargs\u001b[0m\u001b[0;34m)\u001b[0m\u001b[0;34m\u001b[0m\u001b[0;34m\u001b[0m\u001b[0m\n\u001b[0m\u001b[1;32m     65\u001b[0m     \u001b[0;32mexcept\u001b[0m \u001b[0mException\u001b[0m \u001b[0;32mas\u001b[0m \u001b[0me\u001b[0m\u001b[0;34m:\u001b[0m  \u001b[0;31m# pylint: disable=broad-except\u001b[0m\u001b[0;34m\u001b[0m\u001b[0;34m\u001b[0m\u001b[0m\n\u001b[1;32m     66\u001b[0m       \u001b[0mfiltered_tb\u001b[0m \u001b[0;34m=\u001b[0m \u001b[0m_process_traceback_frames\u001b[0m\u001b[0;34m(\u001b[0m\u001b[0me\u001b[0m\u001b[0;34m.\u001b[0m\u001b[0m__traceback__\u001b[0m\u001b[0;34m)\u001b[0m\u001b[0;34m\u001b[0m\u001b[0;34m\u001b[0m\u001b[0m\n",
            "\u001b[0;32m/usr/local/lib/python3.8/dist-packages/keras/engine/training.py\u001b[0m in \u001b[0;36mfit\u001b[0;34m(self, x, y, batch_size, epochs, verbose, callbacks, validation_split, validation_data, shuffle, class_weight, sample_weight, initial_epoch, steps_per_epoch, validation_steps, validation_batch_size, validation_freq, max_queue_size, workers, use_multiprocessing)\u001b[0m\n\u001b[1;32m   1443\u001b[0m                 \u001b[0mmodel\u001b[0m\u001b[0;34m=\u001b[0m\u001b[0mself\u001b[0m\u001b[0;34m,\u001b[0m\u001b[0;34m\u001b[0m\u001b[0;34m\u001b[0m\u001b[0m\n\u001b[1;32m   1444\u001b[0m                 steps_per_execution=self._steps_per_execution)\n\u001b[0;32m-> 1445\u001b[0;31m           val_logs = self.evaluate(\n\u001b[0m\u001b[1;32m   1446\u001b[0m               \u001b[0mx\u001b[0m\u001b[0;34m=\u001b[0m\u001b[0mval_x\u001b[0m\u001b[0;34m,\u001b[0m\u001b[0;34m\u001b[0m\u001b[0;34m\u001b[0m\u001b[0m\n\u001b[1;32m   1447\u001b[0m               \u001b[0my\u001b[0m\u001b[0;34m=\u001b[0m\u001b[0mval_y\u001b[0m\u001b[0;34m,\u001b[0m\u001b[0;34m\u001b[0m\u001b[0;34m\u001b[0m\u001b[0m\n",
            "\u001b[0;32m/usr/local/lib/python3.8/dist-packages/keras/utils/traceback_utils.py\u001b[0m in \u001b[0;36merror_handler\u001b[0;34m(*args, **kwargs)\u001b[0m\n\u001b[1;32m     62\u001b[0m     \u001b[0mfiltered_tb\u001b[0m \u001b[0;34m=\u001b[0m \u001b[0;32mNone\u001b[0m\u001b[0;34m\u001b[0m\u001b[0;34m\u001b[0m\u001b[0m\n\u001b[1;32m     63\u001b[0m     \u001b[0;32mtry\u001b[0m\u001b[0;34m:\u001b[0m\u001b[0;34m\u001b[0m\u001b[0;34m\u001b[0m\u001b[0m\n\u001b[0;32m---> 64\u001b[0;31m       \u001b[0;32mreturn\u001b[0m \u001b[0mfn\u001b[0m\u001b[0;34m(\u001b[0m\u001b[0;34m*\u001b[0m\u001b[0margs\u001b[0m\u001b[0;34m,\u001b[0m \u001b[0;34m**\u001b[0m\u001b[0mkwargs\u001b[0m\u001b[0;34m)\u001b[0m\u001b[0;34m\u001b[0m\u001b[0;34m\u001b[0m\u001b[0m\n\u001b[0m\u001b[1;32m     65\u001b[0m     \u001b[0;32mexcept\u001b[0m \u001b[0mException\u001b[0m \u001b[0;32mas\u001b[0m \u001b[0me\u001b[0m\u001b[0;34m:\u001b[0m  \u001b[0;31m# pylint: disable=broad-except\u001b[0m\u001b[0;34m\u001b[0m\u001b[0;34m\u001b[0m\u001b[0m\n\u001b[1;32m     66\u001b[0m       \u001b[0mfiltered_tb\u001b[0m \u001b[0;34m=\u001b[0m \u001b[0m_process_traceback_frames\u001b[0m\u001b[0;34m(\u001b[0m\u001b[0me\u001b[0m\u001b[0;34m.\u001b[0m\u001b[0m__traceback__\u001b[0m\u001b[0;34m)\u001b[0m\u001b[0;34m\u001b[0m\u001b[0;34m\u001b[0m\u001b[0m\n",
            "\u001b[0;32m/usr/local/lib/python3.8/dist-packages/keras/engine/training.py\u001b[0m in \u001b[0;36mevaluate\u001b[0;34m(self, x, y, batch_size, verbose, sample_weight, steps, callbacks, max_queue_size, workers, use_multiprocessing, return_dict, **kwargs)\u001b[0m\n\u001b[1;32m   1754\u001b[0m             \u001b[0;32mwith\u001b[0m \u001b[0mtf\u001b[0m\u001b[0;34m.\u001b[0m\u001b[0mprofiler\u001b[0m\u001b[0;34m.\u001b[0m\u001b[0mexperimental\u001b[0m\u001b[0;34m.\u001b[0m\u001b[0mTrace\u001b[0m\u001b[0;34m(\u001b[0m\u001b[0;34m'test'\u001b[0m\u001b[0;34m,\u001b[0m \u001b[0mstep_num\u001b[0m\u001b[0;34m=\u001b[0m\u001b[0mstep\u001b[0m\u001b[0;34m,\u001b[0m \u001b[0m_r\u001b[0m\u001b[0;34m=\u001b[0m\u001b[0;36m1\u001b[0m\u001b[0;34m)\u001b[0m\u001b[0;34m:\u001b[0m\u001b[0;34m\u001b[0m\u001b[0;34m\u001b[0m\u001b[0m\n\u001b[1;32m   1755\u001b[0m               \u001b[0mcallbacks\u001b[0m\u001b[0;34m.\u001b[0m\u001b[0mon_test_batch_begin\u001b[0m\u001b[0;34m(\u001b[0m\u001b[0mstep\u001b[0m\u001b[0;34m)\u001b[0m\u001b[0;34m\u001b[0m\u001b[0;34m\u001b[0m\u001b[0m\n\u001b[0;32m-> 1756\u001b[0;31m               \u001b[0mtmp_logs\u001b[0m \u001b[0;34m=\u001b[0m \u001b[0mself\u001b[0m\u001b[0;34m.\u001b[0m\u001b[0mtest_function\u001b[0m\u001b[0;34m(\u001b[0m\u001b[0miterator\u001b[0m\u001b[0;34m)\u001b[0m\u001b[0;34m\u001b[0m\u001b[0;34m\u001b[0m\u001b[0m\n\u001b[0m\u001b[1;32m   1757\u001b[0m               \u001b[0;32mif\u001b[0m \u001b[0mdata_handler\u001b[0m\u001b[0;34m.\u001b[0m\u001b[0mshould_sync\u001b[0m\u001b[0;34m:\u001b[0m\u001b[0;34m\u001b[0m\u001b[0;34m\u001b[0m\u001b[0m\n\u001b[1;32m   1758\u001b[0m                 \u001b[0mcontext\u001b[0m\u001b[0;34m.\u001b[0m\u001b[0masync_wait\u001b[0m\u001b[0;34m(\u001b[0m\u001b[0;34m)\u001b[0m\u001b[0;34m\u001b[0m\u001b[0;34m\u001b[0m\u001b[0m\n",
            "\u001b[0;32m/usr/local/lib/python3.8/dist-packages/tensorflow/python/util/traceback_utils.py\u001b[0m in \u001b[0;36merror_handler\u001b[0;34m(*args, **kwargs)\u001b[0m\n\u001b[1;32m    148\u001b[0m     \u001b[0mfiltered_tb\u001b[0m \u001b[0;34m=\u001b[0m \u001b[0;32mNone\u001b[0m\u001b[0;34m\u001b[0m\u001b[0;34m\u001b[0m\u001b[0m\n\u001b[1;32m    149\u001b[0m     \u001b[0;32mtry\u001b[0m\u001b[0;34m:\u001b[0m\u001b[0;34m\u001b[0m\u001b[0;34m\u001b[0m\u001b[0m\n\u001b[0;32m--> 150\u001b[0;31m       \u001b[0;32mreturn\u001b[0m \u001b[0mfn\u001b[0m\u001b[0;34m(\u001b[0m\u001b[0;34m*\u001b[0m\u001b[0margs\u001b[0m\u001b[0;34m,\u001b[0m \u001b[0;34m**\u001b[0m\u001b[0mkwargs\u001b[0m\u001b[0;34m)\u001b[0m\u001b[0;34m\u001b[0m\u001b[0;34m\u001b[0m\u001b[0m\n\u001b[0m\u001b[1;32m    151\u001b[0m     \u001b[0;32mexcept\u001b[0m \u001b[0mException\u001b[0m \u001b[0;32mas\u001b[0m \u001b[0me\u001b[0m\u001b[0;34m:\u001b[0m\u001b[0;34m\u001b[0m\u001b[0;34m\u001b[0m\u001b[0m\n\u001b[1;32m    152\u001b[0m       \u001b[0mfiltered_tb\u001b[0m \u001b[0;34m=\u001b[0m \u001b[0m_process_traceback_frames\u001b[0m\u001b[0;34m(\u001b[0m\u001b[0me\u001b[0m\u001b[0;34m.\u001b[0m\u001b[0m__traceback__\u001b[0m\u001b[0;34m)\u001b[0m\u001b[0;34m\u001b[0m\u001b[0;34m\u001b[0m\u001b[0m\n",
            "\u001b[0;32m/usr/local/lib/python3.8/dist-packages/tensorflow/python/eager/def_function.py\u001b[0m in \u001b[0;36m__call__\u001b[0;34m(self, *args, **kwds)\u001b[0m\n\u001b[1;32m    913\u001b[0m \u001b[0;34m\u001b[0m\u001b[0m\n\u001b[1;32m    914\u001b[0m       \u001b[0;32mwith\u001b[0m \u001b[0mOptionalXlaContext\u001b[0m\u001b[0;34m(\u001b[0m\u001b[0mself\u001b[0m\u001b[0;34m.\u001b[0m\u001b[0m_jit_compile\u001b[0m\u001b[0;34m)\u001b[0m\u001b[0;34m:\u001b[0m\u001b[0;34m\u001b[0m\u001b[0;34m\u001b[0m\u001b[0m\n\u001b[0;32m--> 915\u001b[0;31m         \u001b[0mresult\u001b[0m \u001b[0;34m=\u001b[0m \u001b[0mself\u001b[0m\u001b[0;34m.\u001b[0m\u001b[0m_call\u001b[0m\u001b[0;34m(\u001b[0m\u001b[0;34m*\u001b[0m\u001b[0margs\u001b[0m\u001b[0;34m,\u001b[0m \u001b[0;34m**\u001b[0m\u001b[0mkwds\u001b[0m\u001b[0;34m)\u001b[0m\u001b[0;34m\u001b[0m\u001b[0;34m\u001b[0m\u001b[0m\n\u001b[0m\u001b[1;32m    916\u001b[0m \u001b[0;34m\u001b[0m\u001b[0m\n\u001b[1;32m    917\u001b[0m       \u001b[0mnew_tracing_count\u001b[0m \u001b[0;34m=\u001b[0m \u001b[0mself\u001b[0m\u001b[0;34m.\u001b[0m\u001b[0mexperimental_get_tracing_count\u001b[0m\u001b[0;34m(\u001b[0m\u001b[0;34m)\u001b[0m\u001b[0;34m\u001b[0m\u001b[0;34m\u001b[0m\u001b[0m\n",
            "\u001b[0;32m/usr/local/lib/python3.8/dist-packages/tensorflow/python/eager/def_function.py\u001b[0m in \u001b[0;36m_call\u001b[0;34m(self, *args, **kwds)\u001b[0m\n\u001b[1;32m    952\u001b[0m       \u001b[0;31m# In this case we have not created variables on the first call. So we can\u001b[0m\u001b[0;34m\u001b[0m\u001b[0;34m\u001b[0m\u001b[0;34m\u001b[0m\u001b[0m\n\u001b[1;32m    953\u001b[0m       \u001b[0;31m# run the first trace but we should fail if variables are created.\u001b[0m\u001b[0;34m\u001b[0m\u001b[0;34m\u001b[0m\u001b[0;34m\u001b[0m\u001b[0m\n\u001b[0;32m--> 954\u001b[0;31m       \u001b[0mresults\u001b[0m \u001b[0;34m=\u001b[0m \u001b[0mself\u001b[0m\u001b[0;34m.\u001b[0m\u001b[0m_stateful_fn\u001b[0m\u001b[0;34m(\u001b[0m\u001b[0;34m*\u001b[0m\u001b[0margs\u001b[0m\u001b[0;34m,\u001b[0m \u001b[0;34m**\u001b[0m\u001b[0mkwds\u001b[0m\u001b[0;34m)\u001b[0m\u001b[0;34m\u001b[0m\u001b[0;34m\u001b[0m\u001b[0m\n\u001b[0m\u001b[1;32m    955\u001b[0m       \u001b[0;32mif\u001b[0m \u001b[0mself\u001b[0m\u001b[0;34m.\u001b[0m\u001b[0m_created_variables\u001b[0m \u001b[0;32mand\u001b[0m \u001b[0;32mnot\u001b[0m \u001b[0mALLOW_DYNAMIC_VARIABLE_CREATION\u001b[0m\u001b[0;34m:\u001b[0m\u001b[0;34m\u001b[0m\u001b[0;34m\u001b[0m\u001b[0m\n\u001b[1;32m    956\u001b[0m         raise ValueError(\"Creating variables on a non-first call to a function\"\n",
            "\u001b[0;32m/usr/local/lib/python3.8/dist-packages/tensorflow/python/eager/function.py\u001b[0m in \u001b[0;36m__call__\u001b[0;34m(self, *args, **kwargs)\u001b[0m\n\u001b[1;32m   2451\u001b[0m       (graph_function,\n\u001b[1;32m   2452\u001b[0m        filtered_flat_args) = self._maybe_define_function(args, kwargs)\n\u001b[0;32m-> 2453\u001b[0;31m     return graph_function._call_flat(\n\u001b[0m\u001b[1;32m   2454\u001b[0m         filtered_flat_args, captured_inputs=graph_function.captured_inputs)  # pylint: disable=protected-access\n\u001b[1;32m   2455\u001b[0m \u001b[0;34m\u001b[0m\u001b[0m\n",
            "\u001b[0;32m/usr/local/lib/python3.8/dist-packages/tensorflow/python/eager/function.py\u001b[0m in \u001b[0;36m_call_flat\u001b[0;34m(self, args, captured_inputs, cancellation_manager)\u001b[0m\n\u001b[1;32m   1858\u001b[0m         and executing_eagerly):\n\u001b[1;32m   1859\u001b[0m       \u001b[0;31m# No tape is watching; skip to running the function.\u001b[0m\u001b[0;34m\u001b[0m\u001b[0;34m\u001b[0m\u001b[0;34m\u001b[0m\u001b[0m\n\u001b[0;32m-> 1860\u001b[0;31m       return self._build_call_outputs(self._inference_function.call(\n\u001b[0m\u001b[1;32m   1861\u001b[0m           ctx, args, cancellation_manager=cancellation_manager))\n\u001b[1;32m   1862\u001b[0m     forward_backward = self._select_forward_and_backward_functions(\n",
            "\u001b[0;32m/usr/local/lib/python3.8/dist-packages/tensorflow/python/eager/function.py\u001b[0m in \u001b[0;36mcall\u001b[0;34m(self, ctx, args, cancellation_manager)\u001b[0m\n\u001b[1;32m    495\u001b[0m       \u001b[0;32mwith\u001b[0m \u001b[0m_InterpolateFunctionError\u001b[0m\u001b[0;34m(\u001b[0m\u001b[0mself\u001b[0m\u001b[0;34m)\u001b[0m\u001b[0;34m:\u001b[0m\u001b[0;34m\u001b[0m\u001b[0;34m\u001b[0m\u001b[0m\n\u001b[1;32m    496\u001b[0m         \u001b[0;32mif\u001b[0m \u001b[0mcancellation_manager\u001b[0m \u001b[0;32mis\u001b[0m \u001b[0;32mNone\u001b[0m\u001b[0;34m:\u001b[0m\u001b[0;34m\u001b[0m\u001b[0;34m\u001b[0m\u001b[0m\n\u001b[0;32m--> 497\u001b[0;31m           outputs = execute.execute(\n\u001b[0m\u001b[1;32m    498\u001b[0m               \u001b[0mstr\u001b[0m\u001b[0;34m(\u001b[0m\u001b[0mself\u001b[0m\u001b[0;34m.\u001b[0m\u001b[0msignature\u001b[0m\u001b[0;34m.\u001b[0m\u001b[0mname\u001b[0m\u001b[0;34m)\u001b[0m\u001b[0;34m,\u001b[0m\u001b[0;34m\u001b[0m\u001b[0;34m\u001b[0m\u001b[0m\n\u001b[1;32m    499\u001b[0m               \u001b[0mnum_outputs\u001b[0m\u001b[0;34m=\u001b[0m\u001b[0mself\u001b[0m\u001b[0;34m.\u001b[0m\u001b[0m_num_outputs\u001b[0m\u001b[0;34m,\u001b[0m\u001b[0;34m\u001b[0m\u001b[0;34m\u001b[0m\u001b[0m\n",
            "\u001b[0;32m/usr/local/lib/python3.8/dist-packages/tensorflow/python/eager/execute.py\u001b[0m in \u001b[0;36mquick_execute\u001b[0;34m(op_name, num_outputs, inputs, attrs, ctx, name)\u001b[0m\n\u001b[1;32m     52\u001b[0m   \u001b[0;32mtry\u001b[0m\u001b[0;34m:\u001b[0m\u001b[0;34m\u001b[0m\u001b[0;34m\u001b[0m\u001b[0m\n\u001b[1;32m     53\u001b[0m     \u001b[0mctx\u001b[0m\u001b[0;34m.\u001b[0m\u001b[0mensure_initialized\u001b[0m\u001b[0;34m(\u001b[0m\u001b[0;34m)\u001b[0m\u001b[0;34m\u001b[0m\u001b[0;34m\u001b[0m\u001b[0m\n\u001b[0;32m---> 54\u001b[0;31m     tensors = pywrap_tfe.TFE_Py_Execute(ctx._handle, device_name, op_name,\n\u001b[0m\u001b[1;32m     55\u001b[0m                                         inputs, attrs, num_outputs)\n\u001b[1;32m     56\u001b[0m   \u001b[0;32mexcept\u001b[0m \u001b[0mcore\u001b[0m\u001b[0;34m.\u001b[0m\u001b[0m_NotOkStatusException\u001b[0m \u001b[0;32mas\u001b[0m \u001b[0me\u001b[0m\u001b[0;34m:\u001b[0m\u001b[0;34m\u001b[0m\u001b[0;34m\u001b[0m\u001b[0m\n",
            "\u001b[0;31mKeyboardInterrupt\u001b[0m: "
          ]
        }
      ]
    },
    {
      "cell_type": "code",
      "source": [
        "# Show a summary of the search\n",
        "tuner.results_summary()\n",
        "\n",
        "# Retrieve the best model.\n",
        "best_model = tuner.get_best_models(num_models=1)[0]\n",
        "\n",
        "# Evaluate the best model.\n",
        "loss, accuracy = best_model.evaluate(X_test, Y_test)"
      ],
      "metadata": {
        "id": "u4-nRNcZzBHG",
        "colab": {
          "base_uri": "https://localhost:8080/"
        },
        "outputId": "48f73168-ab3d-4c15-8071-621e37c11c20"
      },
      "execution_count": null,
      "outputs": [
        {
          "output_type": "stream",
          "name": "stdout",
          "text": [
            "Results summary\n",
            "Results in hyperband/chest_x_ray\n",
            "Showing 10 best trials\n",
            "<keras_tuner.engine.objective.Objective object at 0x7f47d9c04ac0>\n",
            "Trial summary\n",
            "Hyperparameters:\n",
            "num_filters_L2: 256\n",
            "dropout_L2: 0.45\n",
            "num_filters_L3: 256\n",
            "dropout_L3: 0.25\n",
            "dropout_L5: 0.2\n",
            "units_D1: 64\n",
            "dense1_activation: relu\n",
            "dropout_D1: 0.35000000000000003\n",
            "units_D2: 352\n",
            "dense2_activation: relu\n",
            "dropout_D2: 0.15000000000000002\n",
            "learning_rate: 0.00014023399602325874\n",
            "tuner/epochs: 14\n",
            "tuner/initial_epoch: 5\n",
            "tuner/bracket: 3\n",
            "tuner/round: 2\n",
            "tuner/trial_id: 0040\n",
            "Score: 0.9658536612987518\n",
            "Trial summary\n",
            "Hyperparameters:\n",
            "num_filters_L2: 64\n",
            "dropout_L2: 0.30000000000000004\n",
            "num_filters_L3: 32\n",
            "dropout_L3: 0.4\n",
            "dropout_L5: 0.25\n",
            "units_D1: 256\n",
            "dense1_activation: relu\n",
            "dropout_D1: 0.25\n",
            "units_D2: 192\n",
            "dense2_activation: sigmoid\n",
            "dropout_D2: 0.4\n",
            "learning_rate: 0.00010854128446585706\n",
            "tuner/epochs: 14\n",
            "tuner/initial_epoch: 0\n",
            "tuner/bracket: 1\n",
            "tuner/round: 0\n",
            "Score: 0.9524390399456024\n",
            "Trial summary\n",
            "Hyperparameters:\n",
            "num_filters_L2: 128\n",
            "dropout_L2: 0.15000000000000002\n",
            "num_filters_L3: 32\n",
            "dropout_L3: 0.05\n",
            "dropout_L5: 0.35000000000000003\n",
            "units_D1: 352\n",
            "dense1_activation: relu\n",
            "dropout_D1: 0.35000000000000003\n",
            "units_D2: 320\n",
            "dense2_activation: relu\n",
            "dropout_D2: 0.35000000000000003\n",
            "learning_rate: 0.0001077121672213119\n",
            "tuner/epochs: 14\n",
            "tuner/initial_epoch: 0\n",
            "tuner/bracket: 1\n",
            "tuner/round: 0\n",
            "Score: 0.9463414549827576\n",
            "Trial summary\n",
            "Hyperparameters:\n",
            "num_filters_L2: 256\n",
            "dropout_L2: 0.05\n",
            "num_filters_L3: 64\n",
            "dropout_L3: 0.15000000000000002\n",
            "dropout_L5: 0.4\n",
            "units_D1: 224\n",
            "dense1_activation: tanh\n",
            "dropout_D1: 0.15000000000000002\n",
            "units_D2: 480\n",
            "dense2_activation: tanh\n",
            "dropout_D2: 0.30000000000000004\n",
            "learning_rate: 0.00011289813322780023\n",
            "tuner/epochs: 14\n",
            "tuner/initial_epoch: 5\n",
            "tuner/bracket: 2\n",
            "tuner/round: 1\n",
            "tuner/trial_id: 0052\n",
            "Score: 0.9378048777580261\n",
            "Trial summary\n",
            "Hyperparameters:\n",
            "num_filters_L2: 256\n",
            "dropout_L2: 0.45\n",
            "num_filters_L3: 256\n",
            "dropout_L3: 0.25\n",
            "dropout_L5: 0.2\n",
            "units_D1: 64\n",
            "dense1_activation: relu\n",
            "dropout_D1: 0.35000000000000003\n",
            "units_D2: 352\n",
            "dense2_activation: relu\n",
            "dropout_D2: 0.15000000000000002\n",
            "learning_rate: 0.00014023399602325874\n",
            "tuner/epochs: 40\n",
            "tuner/initial_epoch: 14\n",
            "tuner/bracket: 3\n",
            "tuner/round: 3\n",
            "tuner/trial_id: 0046\n",
            "Score: 0.9329268336296082\n",
            "Trial summary\n",
            "Hyperparameters:\n",
            "num_filters_L2: 256\n",
            "dropout_L2: 0.05\n",
            "num_filters_L3: 64\n",
            "dropout_L3: 0.15000000000000002\n",
            "dropout_L5: 0.4\n",
            "units_D1: 224\n",
            "dense1_activation: tanh\n",
            "dropout_D1: 0.15000000000000002\n",
            "units_D2: 480\n",
            "dense2_activation: tanh\n",
            "dropout_D2: 0.30000000000000004\n",
            "learning_rate: 0.00011289813322780023\n",
            "tuner/epochs: 40\n",
            "tuner/initial_epoch: 14\n",
            "tuner/bracket: 2\n",
            "tuner/round: 2\n",
            "tuner/trial_id: 0070\n",
            "Score: 0.9292682707309723\n",
            "Trial summary\n",
            "Hyperparameters:\n",
            "num_filters_L2: 128\n",
            "dropout_L2: 0.15000000000000002\n",
            "num_filters_L3: 32\n",
            "dropout_L3: 0.05\n",
            "dropout_L5: 0.35000000000000003\n",
            "units_D1: 352\n",
            "dense1_activation: relu\n",
            "dropout_D1: 0.35000000000000003\n",
            "units_D2: 320\n",
            "dense2_activation: relu\n",
            "dropout_D2: 0.35000000000000003\n",
            "learning_rate: 0.0001077121672213119\n",
            "tuner/epochs: 40\n",
            "tuner/initial_epoch: 14\n",
            "tuner/bracket: 1\n",
            "tuner/round: 1\n",
            "tuner/trial_id: 0079\n",
            "Score: 0.9256097376346588\n",
            "Trial summary\n",
            "Hyperparameters:\n",
            "num_filters_L2: 256\n",
            "dropout_L2: 0.2\n",
            "num_filters_L3: 128\n",
            "dropout_L3: 0.45\n",
            "dropout_L5: 0.05\n",
            "units_D1: 512\n",
            "dense1_activation: tanh\n",
            "dropout_D1: 0.2\n",
            "units_D2: 64\n",
            "dense2_activation: relu\n",
            "dropout_D2: 0.15000000000000002\n",
            "learning_rate: 0.00025095748994520946\n",
            "tuner/epochs: 14\n",
            "tuner/initial_epoch: 0\n",
            "tuner/bracket: 1\n",
            "tuner/round: 0\n",
            "Score: 0.9158536791801453\n",
            "Trial summary\n",
            "Hyperparameters:\n",
            "num_filters_L2: 256\n",
            "dropout_L2: 0.45\n",
            "num_filters_L3: 256\n",
            "dropout_L3: 0.25\n",
            "dropout_L5: 0.2\n",
            "units_D1: 64\n",
            "dense1_activation: relu\n",
            "dropout_D1: 0.35000000000000003\n",
            "units_D2: 352\n",
            "dense2_activation: relu\n",
            "dropout_D2: 0.15000000000000002\n",
            "learning_rate: 0.00014023399602325874\n",
            "tuner/epochs: 5\n",
            "tuner/initial_epoch: 2\n",
            "tuner/bracket: 3\n",
            "tuner/round: 1\n",
            "tuner/trial_id: 0005\n",
            "Score: 0.9085365831851959\n",
            "Trial summary\n",
            "Hyperparameters:\n",
            "num_filters_L2: 256\n",
            "dropout_L2: 0.2\n",
            "num_filters_L3: 128\n",
            "dropout_L3: 0.45\n",
            "dropout_L5: 0.05\n",
            "units_D1: 512\n",
            "dense1_activation: tanh\n",
            "dropout_D1: 0.2\n",
            "units_D2: 64\n",
            "dense2_activation: relu\n",
            "dropout_D2: 0.15000000000000002\n",
            "learning_rate: 0.00025095748994520946\n",
            "tuner/epochs: 40\n",
            "tuner/initial_epoch: 14\n",
            "tuner/bracket: 1\n",
            "tuner/round: 1\n",
            "tuner/trial_id: 0077\n",
            "Score: 0.9073170721530914\n",
            "28/28 [==============================] - 1s 29ms/step - loss: 0.4665 - accuracy: 0.7466\n"
          ]
        }
      ]
    },
    {
      "cell_type": "markdown",
      "source": [
        "**Task 2 - K folds Cross Validation**"
      ],
      "metadata": {
        "id": "UP6MjJHTIMEL"
      }
    },
    {
      "cell_type": "code",
      "source": [
        "from keras.callbacks import ModelCheckpoint\n",
        "# Function to create model, required for KerasClassifier\n",
        "def create_model():\n",
        "\n",
        "  model = Sequential()\n",
        "  #first conv layer\n",
        "  model.add(Conv2D(16, (3, 3), padding=\"same\", input_shape = (150,150,1)))\n",
        "  model.add(BatchNormalization())\n",
        "  model.add(Activation(\"relu\"))\n",
        "  model.add(MaxPooling2D(2, 2))\n",
        "  #second conv layer\n",
        "  model.add(Conv2D(32, (3, 3), padding=\"same\"))\n",
        "  model.add(BatchNormalization())\n",
        "  model.add(Activation(\"relu\"))\n",
        "  model.add(MaxPooling2D(2, 2))\n",
        "  model.add(Dropout(0.2))\n",
        "  #third conv layer\n",
        "  model.add(Conv2D(64, (3, 3), padding=\"same\"))\n",
        "  model.add(BatchNormalization())\n",
        "  model.add(Activation(\"relu\"))\n",
        "  model.add(MaxPooling2D(2, 2))\n",
        "  model.add(Dropout(0.2))\n",
        "  #fourth conv layer\n",
        "  model.add(Conv2D(128, (3, 3), padding=\"same\"))\n",
        "  model.add(BatchNormalization())\n",
        "  model.add(Activation(\"relu\"))\n",
        "  model.add(MaxPooling2D(2, 2))\n",
        "  #fifth conv layer\n",
        "  model.add(Conv2D(256, (3, 3), padding=\"same\"))\n",
        "  model.add(BatchNormalization())\n",
        "  model.add(Activation(\"relu\"))\n",
        "  model.add(MaxPooling2D(2, 2))\n",
        "  model.add(Dropout(0.2))\n",
        "  #fc layer\n",
        "  model.add(Flatten())\n",
        "  model.add(Dense(256, activation=\"relu\"))\n",
        "  model.add(Dropout(0.2))\n",
        "  model.add(Dense(128, activation=\"relu\"))\n",
        "  model.add(Dropout(0.2))\n",
        "\n",
        "  #output layer\n",
        "  model.add(Dense(1))\n",
        "  model.add(Activation(\"sigmoid\"))\n",
        "  #optimizer and loss function\n",
        "  opt = tf.keras.optimizers.Adam(learning_rate=0.0001)\n",
        "  model.compile(optimizer =opt , loss = 'binary_crossentropy' , metrics = ['accuracy'])\n",
        "  return model\n",
        "#set early stopping criteria\n",
        "pat = 5 #this is the number of epochs with no improvment after which the training will stop\n",
        "early_stopping = EarlyStopping(monitor='val_loss', patience=pat, verbose=1)\n",
        "\n",
        "#define the model checkpoint callback -> this will keep on saving the model as a physical file\n",
        "model_checkpoint = ModelCheckpoint('/content/drive/MyDrive/Project-Deep', verbose=1, save_best_only=True)\n",
        "\n",
        "#define a function to fit the model\n",
        "def fit_and_evaluate(t_x, val_x, t_y, val_y, EPOCHS=20, BATCH_SIZE=128):\n",
        "    model = None\n",
        "    model = create_model()\n",
        "    results = model.fit(t_x, t_y, epochs=EPOCHS, batch_size=BATCH_SIZE, callbacks=[early_stopping, model_checkpoint], \n",
        "              verbose=1, validation_split=0.1)  \n",
        "    print(\"Val Score: \", model.evaluate(val_x, val_y))\n",
        "    return results"
      ],
      "metadata": {
        "id": "9F-vUWKCqzYR"
      },
      "execution_count": null,
      "outputs": []
    },
    {
      "cell_type": "code",
      "source": [
        "n_folds=5\n",
        "epochs=20\n",
        "batch_size=32\n",
        "\n",
        "#save the model history in a list after fitting so that we can plot later\n",
        "model_history = [] \n",
        "\n",
        "for i in range(n_folds):\n",
        "    print(\"Training on Fold: \",i+1)\n",
        "    t_x, val_x, t_y, val_y = train_test_split(x_train, Y_train, test_size=0.1, \n",
        "                                               random_state = np.random.randint(1,1000, 1)[0])\n",
        "    model_history.append(fit_and_evaluate(t_x, val_x, t_y, val_y, epochs, batch_size))\n",
        "    print(\"=======\"*12, end=\"\\n\\n\\n\")"
      ],
      "metadata": {
        "colab": {
          "base_uri": "https://localhost:8080/"
        },
        "id": "BoCLTSPRq6G_",
        "outputId": "ea215870-bea5-4af2-93fc-4ed969a4c939"
      },
      "execution_count": null,
      "outputs": [
        {
          "output_type": "stream",
          "name": "stdout",
          "text": [
            "Training on Fold:  1\n",
            "Epoch 1/20\n",
            "104/104 [==============================] - ETA: 0s - loss: 0.3316 - accuracy: 0.8599\n",
            "Epoch 1: val_loss did not improve from 0.54095\n",
            "104/104 [==============================] - 4s 31ms/step - loss: 0.3316 - accuracy: 0.8599 - val_loss: 1.0747 - val_accuracy: 0.7317\n",
            "Epoch 2/20\n",
            "104/104 [==============================] - ETA: 0s - loss: 0.2121 - accuracy: 0.9148\n",
            "Epoch 2: val_loss did not improve from 0.54095\n",
            "104/104 [==============================] - 3s 25ms/step - loss: 0.2121 - accuracy: 0.9148 - val_loss: 2.0109 - val_accuracy: 0.7317\n",
            "Epoch 3/20\n",
            "102/104 [============================>.] - ETA: 0s - loss: 0.1907 - accuracy: 0.9246\n",
            "Epoch 3: val_loss did not improve from 0.54095\n",
            "104/104 [==============================] - 3s 30ms/step - loss: 0.1900 - accuracy: 0.9253 - val_loss: 2.1890 - val_accuracy: 0.7317\n",
            "Epoch 4/20\n",
            "102/104 [============================>.] - ETA: 0s - loss: 0.1678 - accuracy: 0.9384\n",
            "Epoch 4: val_loss did not improve from 0.54095\n",
            "104/104 [==============================] - 3s 25ms/step - loss: 0.1666 - accuracy: 0.9392 - val_loss: 1.8676 - val_accuracy: 0.7317\n",
            "Epoch 5/20\n",
            "102/104 [============================>.] - ETA: 0s - loss: 0.1527 - accuracy: 0.9433\n",
            "Epoch 5: val_loss did not improve from 0.54095\n",
            "104/104 [==============================] - 3s 26ms/step - loss: 0.1524 - accuracy: 0.9431 - val_loss: 1.2828 - val_accuracy: 0.7317\n",
            "Epoch 6/20\n",
            "102/104 [============================>.] - ETA: 0s - loss: 0.1382 - accuracy: 0.9485\n",
            "Epoch 6: val_loss did not improve from 0.54095\n",
            "104/104 [==============================] - 3s 25ms/step - loss: 0.1369 - accuracy: 0.9491 - val_loss: 1.0483 - val_accuracy: 0.7398\n",
            "Epoch 7/20\n",
            "103/104 [============================>.] - ETA: 0s - loss: 0.1349 - accuracy: 0.9502\n",
            "Epoch 7: val_loss improved from 0.54095 to 0.17274, saving model to fas_mnist_1.h5\n",
            "104/104 [==============================] - 3s 28ms/step - loss: 0.1347 - accuracy: 0.9503 - val_loss: 0.1727 - val_accuracy: 0.9268\n",
            "Epoch 8/20\n",
            "102/104 [============================>.] - ETA: 0s - loss: 0.1274 - accuracy: 0.9553\n",
            "Epoch 8: val_loss improved from 0.17274 to 0.15815, saving model to fas_mnist_1.h5\n",
            "104/104 [==============================] - 3s 29ms/step - loss: 0.1284 - accuracy: 0.9548 - val_loss: 0.1582 - val_accuracy: 0.9404\n",
            "Epoch 9/20\n",
            "104/104 [==============================] - ETA: 0s - loss: 0.1170 - accuracy: 0.9560\n",
            "Epoch 9: val_loss did not improve from 0.15815\n",
            "104/104 [==============================] - 3s 25ms/step - loss: 0.1170 - accuracy: 0.9560 - val_loss: 0.1962 - val_accuracy: 0.9268\n",
            "Epoch 10/20\n",
            "104/104 [==============================] - ETA: 0s - loss: 0.1142 - accuracy: 0.9605\n",
            "Epoch 10: val_loss did not improve from 0.15815\n",
            "104/104 [==============================] - 3s 26ms/step - loss: 0.1142 - accuracy: 0.9605 - val_loss: 0.2214 - val_accuracy: 0.9241\n",
            "Epoch 11/20\n",
            "102/104 [============================>.] - ETA: 0s - loss: 0.1106 - accuracy: 0.9583\n",
            "Epoch 11: val_loss improved from 0.15815 to 0.14472, saving model to fas_mnist_1.h5\n",
            "104/104 [==============================] - 3s 27ms/step - loss: 0.1101 - accuracy: 0.9584 - val_loss: 0.1447 - val_accuracy: 0.9404\n",
            "Epoch 12/20\n",
            "103/104 [============================>.] - ETA: 0s - loss: 0.1038 - accuracy: 0.9627\n",
            "Epoch 12: val_loss improved from 0.14472 to 0.11121, saving model to fas_mnist_1.h5\n",
            "104/104 [==============================] - 3s 26ms/step - loss: 0.1034 - accuracy: 0.9630 - val_loss: 0.1112 - val_accuracy: 0.9566\n",
            "Epoch 13/20\n",
            "104/104 [==============================] - ETA: 0s - loss: 0.1062 - accuracy: 0.9605\n",
            "Epoch 13: val_loss did not improve from 0.11121\n",
            "104/104 [==============================] - 3s 25ms/step - loss: 0.1062 - accuracy: 0.9605 - val_loss: 0.1543 - val_accuracy: 0.9512\n",
            "Epoch 14/20\n",
            "103/104 [============================>.] - ETA: 0s - loss: 0.1036 - accuracy: 0.9633\n",
            "Epoch 14: val_loss did not improve from 0.11121\n",
            "104/104 [==============================] - 3s 25ms/step - loss: 0.1046 - accuracy: 0.9627 - val_loss: 0.1236 - val_accuracy: 0.9539\n",
            "Epoch 15/20\n",
            "103/104 [============================>.] - ETA: 0s - loss: 0.1035 - accuracy: 0.9603\n",
            "Epoch 15: val_loss did not improve from 0.11121\n",
            "104/104 [==============================] - 3s 25ms/step - loss: 0.1035 - accuracy: 0.9602 - val_loss: 0.1367 - val_accuracy: 0.9512\n",
            "Epoch 16/20\n",
            "104/104 [==============================] - ETA: 0s - loss: 0.0959 - accuracy: 0.9645\n",
            "Epoch 16: val_loss did not improve from 0.11121\n",
            "104/104 [==============================] - 3s 25ms/step - loss: 0.0959 - accuracy: 0.9645 - val_loss: 0.1113 - val_accuracy: 0.9566\n",
            "Epoch 17/20\n",
            "102/104 [============================>.] - ETA: 0s - loss: 0.0957 - accuracy: 0.9648\n",
            "Epoch 17: val_loss improved from 0.11121 to 0.10415, saving model to fas_mnist_1.h5\n",
            "104/104 [==============================] - 3s 26ms/step - loss: 0.0952 - accuracy: 0.9648 - val_loss: 0.1042 - val_accuracy: 0.9512\n",
            "Epoch 18/20\n",
            "103/104 [============================>.] - ETA: 0s - loss: 0.0832 - accuracy: 0.9688\n",
            "Epoch 18: val_loss did not improve from 0.10415\n",
            "104/104 [==============================] - 3s 25ms/step - loss: 0.0843 - accuracy: 0.9684 - val_loss: 0.1112 - val_accuracy: 0.9539\n",
            "Epoch 19/20\n",
            "103/104 [============================>.] - ETA: 0s - loss: 0.0894 - accuracy: 0.9663\n",
            "Epoch 19: val_loss did not improve from 0.10415\n",
            "104/104 [==============================] - 3s 25ms/step - loss: 0.0891 - accuracy: 0.9666 - val_loss: 0.1380 - val_accuracy: 0.9512\n",
            "Epoch 20/20\n",
            "103/104 [============================>.] - ETA: 0s - loss: 0.0802 - accuracy: 0.9703\n",
            "Epoch 20: val_loss did not improve from 0.10415\n",
            "104/104 [==============================] - 3s 26ms/step - loss: 0.0804 - accuracy: 0.9702 - val_loss: 0.1554 - val_accuracy: 0.9377\n",
            "13/13 [==============================] - 0s 10ms/step - loss: 0.1696 - accuracy: 0.9512\n",
            "Val Score:  [0.16961310803890228, 0.9512194991111755]\n",
            "====================================================================================\n",
            "\n",
            "\n",
            "Training on Fold:  2\n",
            "Epoch 1/20\n",
            "102/104 [============================>.] - ETA: 0s - loss: 0.3316 - accuracy: 0.8532\n",
            "Epoch 1: val_loss did not improve from 0.10415\n",
            "104/104 [==============================] - 4s 28ms/step - loss: 0.3295 - accuracy: 0.8545 - val_loss: 0.8221 - val_accuracy: 0.7344\n",
            "Epoch 2/20\n",
            "102/104 [============================>.] - ETA: 0s - loss: 0.2312 - accuracy: 0.9001\n",
            "Epoch 2: val_loss did not improve from 0.10415\n",
            "104/104 [==============================] - 3s 25ms/step - loss: 0.2302 - accuracy: 0.9009 - val_loss: 1.3065 - val_accuracy: 0.7344\n",
            "Epoch 3/20\n",
            "104/104 [==============================] - ETA: 0s - loss: 0.1720 - accuracy: 0.9343\n",
            "Epoch 3: val_loss did not improve from 0.10415\n",
            "104/104 [==============================] - 3s 25ms/step - loss: 0.1720 - accuracy: 0.9343 - val_loss: 1.6165 - val_accuracy: 0.7344\n",
            "Epoch 4/20\n",
            "103/104 [============================>.] - ETA: 0s - loss: 0.1595 - accuracy: 0.9393\n",
            "Epoch 4: val_loss did not improve from 0.10415\n",
            "104/104 [==============================] - 3s 26ms/step - loss: 0.1608 - accuracy: 0.9392 - val_loss: 1.8488 - val_accuracy: 0.7344\n",
            "Epoch 5/20\n",
            "104/104 [==============================] - ETA: 0s - loss: 0.1513 - accuracy: 0.9452\n",
            "Epoch 5: val_loss did not improve from 0.10415\n",
            "104/104 [==============================] - 3s 25ms/step - loss: 0.1513 - accuracy: 0.9452 - val_loss: 1.3340 - val_accuracy: 0.7344\n",
            "Epoch 6/20\n",
            "103/104 [============================>.] - ETA: 0s - loss: 0.1340 - accuracy: 0.9475\n",
            "Epoch 6: val_loss did not improve from 0.10415\n",
            "104/104 [==============================] - 3s 25ms/step - loss: 0.1348 - accuracy: 0.9473 - val_loss: 0.4161 - val_accuracy: 0.8509\n",
            "Epoch 7/20\n",
            "104/104 [==============================] - ETA: 0s - loss: 0.1272 - accuracy: 0.9542\n",
            "Epoch 7: val_loss did not improve from 0.10415\n",
            "104/104 [==============================] - 3s 24ms/step - loss: 0.1272 - accuracy: 0.9542 - val_loss: 0.1157 - val_accuracy: 0.9648\n",
            "Epoch 8/20\n",
            "104/104 [==============================] - ETA: 0s - loss: 0.1168 - accuracy: 0.9563\n",
            "Epoch 8: val_loss did not improve from 0.10415\n",
            "104/104 [==============================] - 3s 24ms/step - loss: 0.1168 - accuracy: 0.9563 - val_loss: 0.1614 - val_accuracy: 0.9431\n",
            "Epoch 9/20\n",
            "102/104 [============================>.] - ETA: 0s - loss: 0.1092 - accuracy: 0.9605\n",
            "Epoch 9: val_loss improved from 0.10415 to 0.10288, saving model to fas_mnist_1.h5\n",
            "104/104 [==============================] - 3s 26ms/step - loss: 0.1094 - accuracy: 0.9602 - val_loss: 0.1029 - val_accuracy: 0.9593\n",
            "Epoch 10/20\n",
            "103/104 [============================>.] - ETA: 0s - loss: 0.1102 - accuracy: 0.9566\n",
            "Epoch 10: val_loss improved from 0.10288 to 0.08748, saving model to fas_mnist_1.h5\n",
            "104/104 [==============================] - 3s 26ms/step - loss: 0.1103 - accuracy: 0.9566 - val_loss: 0.0875 - val_accuracy: 0.9621\n",
            "Epoch 11/20\n",
            "102/104 [============================>.] - ETA: 0s - loss: 0.1021 - accuracy: 0.9632\n",
            "Epoch 11: val_loss did not improve from 0.08748\n",
            "104/104 [==============================] - 3s 25ms/step - loss: 0.1015 - accuracy: 0.9636 - val_loss: 0.1219 - val_accuracy: 0.9621\n",
            "Epoch 12/20\n",
            "102/104 [============================>.] - ETA: 0s - loss: 0.1078 - accuracy: 0.9626\n",
            "Epoch 12: val_loss did not improve from 0.08748\n",
            "104/104 [==============================] - 3s 25ms/step - loss: 0.1068 - accuracy: 0.9630 - val_loss: 0.0925 - val_accuracy: 0.9566\n",
            "Epoch 13/20\n",
            "104/104 [==============================] - ETA: 0s - loss: 0.1009 - accuracy: 0.9614\n",
            "Epoch 13: val_loss improved from 0.08748 to 0.08090, saving model to fas_mnist_1.h5\n",
            "104/104 [==============================] - 3s 26ms/step - loss: 0.1009 - accuracy: 0.9614 - val_loss: 0.0809 - val_accuracy: 0.9648\n",
            "Epoch 14/20\n",
            "104/104 [==============================] - ETA: 0s - loss: 0.1117 - accuracy: 0.9584\n",
            "Epoch 14: val_loss improved from 0.08090 to 0.07744, saving model to fas_mnist_1.h5\n",
            "104/104 [==============================] - 3s 27ms/step - loss: 0.1117 - accuracy: 0.9584 - val_loss: 0.0774 - val_accuracy: 0.9648\n",
            "Epoch 15/20\n",
            "102/104 [============================>.] - ETA: 0s - loss: 0.0966 - accuracy: 0.9645\n",
            "Epoch 15: val_loss did not improve from 0.07744\n",
            "104/104 [==============================] - 3s 25ms/step - loss: 0.0954 - accuracy: 0.9651 - val_loss: 0.0942 - val_accuracy: 0.9566\n",
            "Epoch 16/20\n",
            "102/104 [============================>.] - ETA: 0s - loss: 0.0892 - accuracy: 0.9669\n",
            "Epoch 16: val_loss did not improve from 0.07744\n",
            "104/104 [==============================] - 3s 26ms/step - loss: 0.0893 - accuracy: 0.9666 - val_loss: 0.1276 - val_accuracy: 0.9593\n",
            "Epoch 17/20\n",
            "102/104 [============================>.] - ETA: 0s - loss: 0.0824 - accuracy: 0.9684\n",
            "Epoch 17: val_loss did not improve from 0.07744\n",
            "104/104 [==============================] - 3s 25ms/step - loss: 0.0822 - accuracy: 0.9684 - val_loss: 0.0809 - val_accuracy: 0.9648\n",
            "Epoch 18/20\n",
            "103/104 [============================>.] - ETA: 0s - loss: 0.0858 - accuracy: 0.9654\n",
            "Epoch 18: val_loss did not improve from 0.07744\n",
            "104/104 [==============================] - 3s 26ms/step - loss: 0.0855 - accuracy: 0.9657 - val_loss: 0.0997 - val_accuracy: 0.9566\n",
            "Epoch 19/20\n",
            "102/104 [============================>.] - ETA: 0s - loss: 0.0695 - accuracy: 0.9770\n",
            "Epoch 19: val_loss improved from 0.07744 to 0.06912, saving model to fas_mnist_1.h5\n",
            "104/104 [==============================] - 3s 27ms/step - loss: 0.0690 - accuracy: 0.9771 - val_loss: 0.0691 - val_accuracy: 0.9702\n",
            "Epoch 20/20\n",
            "104/104 [==============================] - ETA: 0s - loss: 0.0738 - accuracy: 0.9735\n",
            "Epoch 20: val_loss did not improve from 0.06912\n",
            "104/104 [==============================] - 3s 25ms/step - loss: 0.0738 - accuracy: 0.9735 - val_loss: 0.0716 - val_accuracy: 0.9729\n",
            "13/13 [==============================] - 0s 10ms/step - loss: 0.1230 - accuracy: 0.9610\n",
            "Val Score:  [0.12298940122127533, 0.9609755873680115]\n",
            "====================================================================================\n",
            "\n",
            "\n",
            "Training on Fold:  3\n",
            "Epoch 1/20\n",
            "103/104 [============================>.] - ETA: 0s - loss: 0.3345 - accuracy: 0.8586\n",
            "Epoch 1: val_loss did not improve from 0.06912\n",
            "104/104 [==============================] - 4s 31ms/step - loss: 0.3331 - accuracy: 0.8590 - val_loss: 1.0832 - val_accuracy: 0.7453\n",
            "Epoch 2/20\n",
            "104/104 [==============================] - ETA: 0s - loss: 0.2177 - accuracy: 0.9102\n",
            "Epoch 2: val_loss did not improve from 0.06912\n",
            "104/104 [==============================] - 3s 25ms/step - loss: 0.2177 - accuracy: 0.9102 - val_loss: 1.7778 - val_accuracy: 0.7453\n",
            "Epoch 3/20\n",
            "103/104 [============================>.] - ETA: 0s - loss: 0.1826 - accuracy: 0.9287\n",
            "Epoch 3: val_loss did not improve from 0.06912\n",
            "104/104 [==============================] - 3s 26ms/step - loss: 0.1823 - accuracy: 0.9289 - val_loss: 1.8745 - val_accuracy: 0.7453\n",
            "Epoch 4/20\n",
            "102/104 [============================>.] - ETA: 0s - loss: 0.1799 - accuracy: 0.9305\n",
            "Epoch 4: val_loss did not improve from 0.06912\n",
            "104/104 [==============================] - 3s 28ms/step - loss: 0.1787 - accuracy: 0.9310 - val_loss: 1.9750 - val_accuracy: 0.7453\n",
            "Epoch 5/20\n",
            "103/104 [============================>.] - ETA: 0s - loss: 0.1526 - accuracy: 0.9417\n",
            "Epoch 5: val_loss did not improve from 0.06912\n",
            "104/104 [==============================] - 3s 25ms/step - loss: 0.1537 - accuracy: 0.9413 - val_loss: 2.0743 - val_accuracy: 0.7453\n",
            "Epoch 6/20\n",
            "102/104 [============================>.] - ETA: 0s - loss: 0.1369 - accuracy: 0.9488\n",
            "Epoch 6: val_loss did not improve from 0.06912\n",
            "104/104 [==============================] - 3s 25ms/step - loss: 0.1375 - accuracy: 0.9494 - val_loss: 1.2516 - val_accuracy: 0.7534\n",
            "Epoch 6: early stopping\n",
            "13/13 [==============================] - 0s 8ms/step - loss: 1.2723 - accuracy: 0.7463\n",
            "Val Score:  [1.272342562675476, 0.7463414669036865]\n",
            "====================================================================================\n",
            "\n",
            "\n",
            "Training on Fold:  4\n",
            "Epoch 1/20\n",
            "103/104 [============================>.] - ETA: 0s - loss: 0.3458 - accuracy: 0.8513\n",
            "Epoch 1: val_loss did not improve from 0.06912\n",
            "104/104 [==============================] - 4s 28ms/step - loss: 0.3442 - accuracy: 0.8521 - val_loss: 0.8215 - val_accuracy: 0.7642\n",
            "Epoch 2/20\n",
            "102/104 [============================>.] - ETA: 0s - loss: 0.2191 - accuracy: 0.9090\n",
            "Epoch 2: val_loss did not improve from 0.06912\n",
            "104/104 [==============================] - 3s 25ms/step - loss: 0.2179 - accuracy: 0.9093 - val_loss: 1.3664 - val_accuracy: 0.7642\n",
            "Epoch 3/20\n",
            "102/104 [============================>.] - ETA: 0s - loss: 0.1778 - accuracy: 0.9280\n",
            "Epoch 3: val_loss did not improve from 0.06912\n",
            "104/104 [==============================] - 3s 25ms/step - loss: 0.1766 - accuracy: 0.9286 - val_loss: 1.5345 - val_accuracy: 0.7642\n",
            "Epoch 4/20\n",
            "102/104 [============================>.] - ETA: 0s - loss: 0.1590 - accuracy: 0.9378\n",
            "Epoch 4: val_loss did not improve from 0.06912\n",
            "104/104 [==============================] - 3s 26ms/step - loss: 0.1588 - accuracy: 0.9380 - val_loss: 1.6353 - val_accuracy: 0.7642\n",
            "Epoch 5/20\n",
            "104/104 [==============================] - ETA: 0s - loss: 0.1434 - accuracy: 0.9473\n",
            "Epoch 5: val_loss did not improve from 0.06912\n",
            "104/104 [==============================] - 3s 25ms/step - loss: 0.1434 - accuracy: 0.9473 - val_loss: 1.3119 - val_accuracy: 0.7642\n",
            "Epoch 6/20\n",
            "104/104 [==============================] - ETA: 0s - loss: 0.1344 - accuracy: 0.9494\n",
            "Epoch 6: val_loss did not improve from 0.06912\n",
            "104/104 [==============================] - 3s 25ms/step - loss: 0.1344 - accuracy: 0.9494 - val_loss: 0.6012 - val_accuracy: 0.8022\n",
            "Epoch 7/20\n",
            "102/104 [============================>.] - ETA: 0s - loss: 0.1187 - accuracy: 0.9544\n",
            "Epoch 7: val_loss did not improve from 0.06912\n",
            "104/104 [==============================] - 3s 26ms/step - loss: 0.1186 - accuracy: 0.9539 - val_loss: 0.4178 - val_accuracy: 0.8509\n",
            "Epoch 8/20\n",
            "103/104 [============================>.] - ETA: 0s - loss: 0.1198 - accuracy: 0.9557\n",
            "Epoch 8: val_loss did not improve from 0.06912\n",
            "104/104 [==============================] - 3s 25ms/step - loss: 0.1198 - accuracy: 0.9554 - val_loss: 0.1072 - val_accuracy: 0.9621\n",
            "Epoch 9/20\n",
            "103/104 [============================>.] - ETA: 0s - loss: 0.1093 - accuracy: 0.9615\n",
            "Epoch 9: val_loss did not improve from 0.06912\n",
            "104/104 [==============================] - 3s 26ms/step - loss: 0.1087 - accuracy: 0.9617 - val_loss: 0.1766 - val_accuracy: 0.9350\n",
            "Epoch 10/20\n",
            "102/104 [============================>.] - ETA: 0s - loss: 0.1033 - accuracy: 0.9635\n",
            "Epoch 10: val_loss did not improve from 0.06912\n",
            "104/104 [==============================] - 3s 26ms/step - loss: 0.1027 - accuracy: 0.9639 - val_loss: 0.1160 - val_accuracy: 0.9621\n",
            "Epoch 11/20\n",
            "103/104 [============================>.] - ETA: 0s - loss: 0.1045 - accuracy: 0.9633\n",
            "Epoch 11: val_loss did not improve from 0.06912\n",
            "104/104 [==============================] - 3s 25ms/step - loss: 0.1049 - accuracy: 0.9630 - val_loss: 0.0887 - val_accuracy: 0.9621\n",
            "Epoch 12/20\n",
            "103/104 [============================>.] - ETA: 0s - loss: 0.1032 - accuracy: 0.9615\n",
            "Epoch 12: val_loss did not improve from 0.06912\n",
            "104/104 [==============================] - 3s 25ms/step - loss: 0.1038 - accuracy: 0.9614 - val_loss: 0.1031 - val_accuracy: 0.9593\n",
            "Epoch 13/20\n",
            "103/104 [============================>.] - ETA: 0s - loss: 0.0972 - accuracy: 0.9642\n",
            "Epoch 13: val_loss did not improve from 0.06912\n",
            "104/104 [==============================] - 3s 25ms/step - loss: 0.0967 - accuracy: 0.9645 - val_loss: 0.1683 - val_accuracy: 0.9458\n",
            "Epoch 14/20\n",
            "104/104 [==============================] - ETA: 0s - loss: 0.0936 - accuracy: 0.9636\n",
            "Epoch 14: val_loss did not improve from 0.06912\n",
            "104/104 [==============================] - 3s 26ms/step - loss: 0.0936 - accuracy: 0.9636 - val_loss: 0.0833 - val_accuracy: 0.9702\n",
            "Epoch 15/20\n",
            "103/104 [============================>.] - ETA: 0s - loss: 0.0910 - accuracy: 0.9666\n",
            "Epoch 15: val_loss did not improve from 0.06912\n",
            "104/104 [==============================] - 3s 25ms/step - loss: 0.0906 - accuracy: 0.9669 - val_loss: 0.0914 - val_accuracy: 0.9675\n",
            "Epoch 16/20\n",
            "103/104 [============================>.] - ETA: 0s - loss: 0.0897 - accuracy: 0.9669\n",
            "Epoch 16: val_loss did not improve from 0.06912\n",
            "104/104 [==============================] - 3s 26ms/step - loss: 0.0892 - accuracy: 0.9672 - val_loss: 0.0899 - val_accuracy: 0.9702\n",
            "Epoch 17/20\n",
            "103/104 [============================>.] - ETA: 0s - loss: 0.0848 - accuracy: 0.9703\n",
            "Epoch 17: val_loss did not improve from 0.06912\n",
            "104/104 [==============================] - 3s 26ms/step - loss: 0.0843 - accuracy: 0.9705 - val_loss: 0.1218 - val_accuracy: 0.9621\n",
            "Epoch 18/20\n",
            "104/104 [==============================] - ETA: 0s - loss: 0.0819 - accuracy: 0.9675\n",
            "Epoch 18: val_loss did not improve from 0.06912\n",
            "104/104 [==============================] - 3s 26ms/step - loss: 0.0819 - accuracy: 0.9675 - val_loss: 0.1005 - val_accuracy: 0.9675\n",
            "Epoch 19/20\n",
            "104/104 [==============================] - ETA: 0s - loss: 0.0686 - accuracy: 0.9741\n",
            "Epoch 19: val_loss did not improve from 0.06912\n",
            "104/104 [==============================] - 3s 26ms/step - loss: 0.0686 - accuracy: 0.9741 - val_loss: 0.1022 - val_accuracy: 0.9566\n",
            "Epoch 19: early stopping\n",
            "13/13 [==============================] - 0s 10ms/step - loss: 0.1569 - accuracy: 0.9512\n",
            "Val Score:  [0.15690457820892334, 0.9512194991111755]\n",
            "====================================================================================\n",
            "\n",
            "\n",
            "Training on Fold:  5\n",
            "Epoch 1/20\n",
            "104/104 [==============================] - ETA: 0s - loss: 0.3388 - accuracy: 0.8518\n",
            "Epoch 1: val_loss did not improve from 0.06912\n",
            "104/104 [==============================] - 4s 29ms/step - loss: 0.3388 - accuracy: 0.8518 - val_loss: 0.9986 - val_accuracy: 0.7073\n",
            "Epoch 2/20\n",
            "103/104 [============================>.] - ETA: 0s - loss: 0.2132 - accuracy: 0.9141\n",
            "Epoch 2: val_loss did not improve from 0.06912\n",
            "104/104 [==============================] - 3s 26ms/step - loss: 0.2164 - accuracy: 0.9130 - val_loss: 1.6685 - val_accuracy: 0.7073\n",
            "Epoch 3/20\n",
            "102/104 [============================>.] - ETA: 0s - loss: 0.1854 - accuracy: 0.9311\n",
            "Epoch 3: val_loss did not improve from 0.06912\n",
            "104/104 [==============================] - 3s 25ms/step - loss: 0.1852 - accuracy: 0.9310 - val_loss: 1.8966 - val_accuracy: 0.7073\n",
            "Epoch 4/20\n",
            "102/104 [============================>.] - ETA: 0s - loss: 0.1618 - accuracy: 0.9393\n",
            "Epoch 4: val_loss did not improve from 0.06912\n",
            "104/104 [==============================] - 3s 25ms/step - loss: 0.1618 - accuracy: 0.9395 - val_loss: 1.6821 - val_accuracy: 0.7073\n",
            "Epoch 5/20\n",
            "104/104 [==============================] - ETA: 0s - loss: 0.1377 - accuracy: 0.9515\n",
            "Epoch 5: val_loss did not improve from 0.06912\n",
            "104/104 [==============================] - 3s 26ms/step - loss: 0.1377 - accuracy: 0.9515 - val_loss: 1.0667 - val_accuracy: 0.7073\n",
            "Epoch 6/20\n",
            "102/104 [============================>.] - ETA: 0s - loss: 0.1390 - accuracy: 0.9491\n",
            "Epoch 6: val_loss did not improve from 0.06912\n",
            "104/104 [==============================] - 3s 26ms/step - loss: 0.1374 - accuracy: 0.9500 - val_loss: 0.6400 - val_accuracy: 0.8184\n",
            "Epoch 7/20\n",
            "102/104 [============================>.] - ETA: 0s - loss: 0.1276 - accuracy: 0.9504\n",
            "Epoch 7: val_loss did not improve from 0.06912\n",
            "104/104 [==============================] - 3s 26ms/step - loss: 0.1274 - accuracy: 0.9506 - val_loss: 0.2906 - val_accuracy: 0.8943\n",
            "Epoch 8/20\n",
            "102/104 [============================>.] - ETA: 0s - loss: 0.1274 - accuracy: 0.9522\n",
            "Epoch 8: val_loss did not improve from 0.06912\n",
            "104/104 [==============================] - 3s 26ms/step - loss: 0.1288 - accuracy: 0.9518 - val_loss: 0.2056 - val_accuracy: 0.9214\n",
            "Epoch 9/20\n",
            "103/104 [============================>.] - ETA: 0s - loss: 0.1158 - accuracy: 0.9560\n",
            "Epoch 9: val_loss did not improve from 0.06912\n",
            "104/104 [==============================] - 3s 25ms/step - loss: 0.1152 - accuracy: 0.9563 - val_loss: 0.1553 - val_accuracy: 0.9431\n",
            "Epoch 10/20\n",
            "103/104 [============================>.] - ETA: 0s - loss: 0.1097 - accuracy: 0.9600\n",
            "Epoch 10: val_loss did not improve from 0.06912\n",
            "104/104 [==============================] - 3s 26ms/step - loss: 0.1101 - accuracy: 0.9599 - val_loss: 0.1487 - val_accuracy: 0.9377\n",
            "Epoch 11/20\n",
            "104/104 [==============================] - ETA: 0s - loss: 0.1055 - accuracy: 0.9648\n",
            "Epoch 11: val_loss did not improve from 0.06912\n",
            "104/104 [==============================] - 3s 26ms/step - loss: 0.1055 - accuracy: 0.9648 - val_loss: 0.1559 - val_accuracy: 0.9377\n",
            "Epoch 12/20\n",
            "102/104 [============================>.] - ETA: 0s - loss: 0.1029 - accuracy: 0.9642\n",
            "Epoch 12: val_loss did not improve from 0.06912\n",
            "104/104 [==============================] - 3s 26ms/step - loss: 0.1033 - accuracy: 0.9645 - val_loss: 0.0938 - val_accuracy: 0.9566\n",
            "Epoch 13/20\n",
            "103/104 [============================>.] - ETA: 0s - loss: 0.1081 - accuracy: 0.9606\n",
            "Epoch 13: val_loss did not improve from 0.06912\n",
            "104/104 [==============================] - 3s 26ms/step - loss: 0.1079 - accuracy: 0.9605 - val_loss: 0.0939 - val_accuracy: 0.9648\n",
            "Epoch 14/20\n",
            "103/104 [============================>.] - ETA: 0s - loss: 0.0903 - accuracy: 0.9660\n",
            "Epoch 14: val_loss did not improve from 0.06912\n",
            "104/104 [==============================] - 3s 26ms/step - loss: 0.0897 - accuracy: 0.9663 - val_loss: 0.1064 - val_accuracy: 0.9539\n",
            "Epoch 15/20\n",
            "103/104 [============================>.] - ETA: 0s - loss: 0.0992 - accuracy: 0.9630\n",
            "Epoch 15: val_loss did not improve from 0.06912\n",
            "104/104 [==============================] - 3s 26ms/step - loss: 0.0993 - accuracy: 0.9627 - val_loss: 0.0952 - val_accuracy: 0.9621\n",
            "Epoch 16/20\n",
            "103/104 [============================>.] - ETA: 0s - loss: 0.0871 - accuracy: 0.9697\n",
            "Epoch 16: val_loss did not improve from 0.06912\n",
            "104/104 [==============================] - 3s 26ms/step - loss: 0.0868 - accuracy: 0.9699 - val_loss: 0.1845 - val_accuracy: 0.9350\n",
            "Epoch 17/20\n",
            "102/104 [============================>.] - ETA: 0s - loss: 0.0821 - accuracy: 0.9706\n",
            "Epoch 17: val_loss did not improve from 0.06912\n",
            "104/104 [==============================] - 3s 25ms/step - loss: 0.0828 - accuracy: 0.9702 - val_loss: 0.0795 - val_accuracy: 0.9621\n",
            "Epoch 18/20\n",
            "103/104 [============================>.] - ETA: 0s - loss: 0.0760 - accuracy: 0.9712\n",
            "Epoch 18: val_loss did not improve from 0.06912\n",
            "104/104 [==============================] - 3s 25ms/step - loss: 0.0765 - accuracy: 0.9708 - val_loss: 0.1236 - val_accuracy: 0.9566\n",
            "Epoch 19/20\n",
            "102/104 [============================>.] - ETA: 0s - loss: 0.0818 - accuracy: 0.9697\n",
            "Epoch 19: val_loss did not improve from 0.06912\n",
            "104/104 [==============================] - 3s 26ms/step - loss: 0.0816 - accuracy: 0.9699 - val_loss: 0.0730 - val_accuracy: 0.9675\n",
            "Epoch 20/20\n",
            "102/104 [============================>.] - ETA: 0s - loss: 0.0757 - accuracy: 0.9737\n",
            "Epoch 20: val_loss did not improve from 0.06912\n",
            "104/104 [==============================] - 3s 26ms/step - loss: 0.0749 - accuracy: 0.9741 - val_loss: 0.1348 - val_accuracy: 0.9566\n",
            "13/13 [==============================] - 0s 11ms/step - loss: 0.2199 - accuracy: 0.9415\n",
            "Val Score:  [0.21986828744411469, 0.9414634108543396]\n",
            "====================================================================================\n",
            "\n",
            "\n"
          ]
        }
      ]
    },
    {
      "cell_type": "code",
      "source": [
        "plt.title('Accuracies vs Epochs')\n",
        "plt.plot(model_history[0].history['accuracy'], label='Training Fold 1')\n",
        "plt.plot(model_history[1].history['accuracy'], label='Training Fold 2')\n",
        "plt.plot(model_history[2].history['accuracy'], label='Training Fold 3')\n",
        "plt.plot(model_history[3].history['accuracy'], label='Training Fold 4')\n",
        "plt.plot(model_history[4].history['accuracy'], label='Training Fold 5')\n",
        "plt.legend()\n",
        "plt.show()"
      ],
      "metadata": {
        "colab": {
          "base_uri": "https://localhost:8080/",
          "height": 281
        },
        "id": "Oo0Sg6TlrBfU",
        "outputId": "654f308b-c609-4d90-868d-3761a29875fa"
      },
      "execution_count": null,
      "outputs": [
        {
          "output_type": "display_data",
          "data": {
            "text/plain": [
              "<Figure size 432x288 with 1 Axes>"
            ],
            "image/png": "[encoded data removed]"
          },
          "metadata": {}
        }
      ]
    },
    {
      "cell_type": "code",
      "source": [
        "plt.title('Train Accuracy vs Val Accuracy')\n",
        "plt.plot(model_history[0].history['accuracy'], label='Train Accuracy Fold 1', color='black')\n",
        "plt.plot(model_history[0].history['val_accuracy'], label='Val Accuracy Fold 1', color='black', linestyle = \"dashdot\")\n",
        "plt.plot(model_history[1].history['accuracy'], label='Train Accuracy Fold 2', color='red', )\n",
        "plt.plot(model_history[1].history['val_accuracy'], label='Val Accuracy Fold 2', color='red', linestyle = \"dashdot\")\n",
        "plt.plot(model_history[2].history['accuracy'], label='Train Accuracy Fold 3', color='green', )\n",
        "plt.plot(model_history[2].history['val_accuracy'], label='Val Accuracy Fold 3', color='green', linestyle = \"dashdot\")\n",
        "plt.plot(model_history[3].history['accuracy'], label='Train Accuracy Fold 4', color='pink', )\n",
        "plt.plot(model_history[3].history['val_accuracy'], label='Val Accuracy Fold 4', color='pink', linestyle = \"dashdot\")\n",
        "plt.plot(model_history[4].history['accuracy'], label='Train Accuracy Fold 5', color='blue', )\n",
        "plt.plot(model_history[4].history['val_accuracy'], label='Val Accuracy Fold 5', color='blue', linestyle = \"dashdot\")\n",
        "plt.legend()\n",
        "plt.show()"
      ],
      "metadata": {
        "colab": {
          "base_uri": "https://localhost:8080/",
          "height": 281
        },
        "id": "1k-LlC9urEnt",
        "outputId": "899983e7-5c0a-42c8-f875-f802941afd10"
      },
      "execution_count": null,
      "outputs": [
        {
          "output_type": "display_data",
          "data": {
            "text/plain": [
              "<Figure size 432x288 with 1 Axes>"
            ],
            "image/png": "[encoded data removed]"
          },
          "metadata": {}
        }
      ]
    }
  ]
}